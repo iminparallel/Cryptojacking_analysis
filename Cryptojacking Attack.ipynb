{
 "cells": [
  {
   "cell_type": "code",
   "execution_count": 768,
   "id": "d9ae5908",
   "metadata": {},
   "outputs": [],
   "source": [
    "import pandas as pd"
   ]
  },
  {
   "cell_type": "code",
   "execution_count": 769,
   "id": "2d6ae7e4",
   "metadata": {},
   "outputs": [
    {
     "name": "stderr",
     "output_type": "stream",
     "text": [
      "/var/folders/3w/9sxng9vs07x5y5pwg23csg4r0000gn/T/ipykernel_35103/786937212.py:1: DtypeWarning: Columns (14,19,26,27,52,57) have mixed types. Specify dtype option on import or set low_memory=False.\n",
      "  df_na = pd.read_csv('final-complete-data-set.csv')\n"
     ]
    }
   ],
   "source": [
    "df_na = pd.read_csv('final-complete-data-set.csv') # this is the total dataset"
   ]
  },
  {
   "cell_type": "code",
   "execution_count": 770,
   "id": "277ff741",
   "metadata": {},
   "outputs": [
    {
     "name": "stderr",
     "output_type": "stream",
     "text": [
      "/var/folders/3w/9sxng9vs07x5y5pwg23csg4r0000gn/T/ipykernel_35103/2195398428.py:1: DtypeWarning: Columns (14,19,26,27,52,57) have mixed types. Specify dtype option on import or set low_memory=False.\n",
      "  df_a = pd.read_csv('final-anormal-data-set.csv')\n"
     ]
    }
   ],
   "source": [
    "df_a = pd.read_csv('final-anormal-data-set.csv') # problematic records\n",
    "df_n = pd.read_csv('final-normal-data-set.csv')  # non-problematic records\n",
    "df_a['flag'] = 1 # 1 for problem\n",
    "df_n['flag'] = 0 # 0 for no problem\n",
    "df = pd.concat([df_a, df_n], axis = 0) # adding the records"
   ]
  },
  {
   "cell_type": "code",
   "execution_count": 771,
   "id": "ee9df577",
   "metadata": {},
   "outputs": [
    {
     "name": "stdout",
     "output_type": "stream",
     "text": [
      "(95312, 83)\n",
      "(95312, 83)\n"
     ]
    }
   ],
   "source": [
    "print(df.shape)\n",
    "print(df.shape)"
   ]
  },
  {
   "cell_type": "code",
   "execution_count": 772,
   "id": "61555de8",
   "metadata": {},
   "outputs": [],
   "source": [
    "list15 = []\n",
    "for var in df.columns:\n",
    "    if df[var].isnull().sum()>df.shape[0]*15/100:\n",
    "        list15.append(var)"
   ]
  },
  {
   "cell_type": "code",
   "execution_count": 773,
   "id": "6b237ef3",
   "metadata": {},
   "outputs": [
    {
     "data": {
      "text/plain": [
       "[]"
      ]
     },
     "execution_count": 773,
     "metadata": {},
     "output_type": "execute_result"
    }
   ],
   "source": [
    "list15 # all columns have less than 15% missing values"
   ]
  },
  {
   "cell_type": "code",
   "execution_count": 774,
   "id": "e56580cf",
   "metadata": {},
   "outputs": [],
   "source": [
    "list0 = []\n",
    "for var in df.columns:\n",
    "    if (df[var].isnull().sum()>0):\n",
    "        list0.append(var)"
   ]
  },
  {
   "cell_type": "code",
   "execution_count": 775,
   "id": "c65bac3a",
   "metadata": {},
   "outputs": [
    {
     "data": {
      "text/plain": [
       "26"
      ]
     },
     "execution_count": 775,
     "metadata": {},
     "output_type": "execute_result"
    }
   ],
   "source": [
    "len(list0) # only 26 columns have some missing value"
   ]
  },
  {
   "cell_type": "code",
   "execution_count": 776,
   "id": "fe07f699",
   "metadata": {},
   "outputs": [],
   "source": [
    "for var in list0:\n",
    "    df = df[~df[var].isnull()] # dropping these rows"
   ]
  },
  {
   "cell_type": "code",
   "execution_count": 777,
   "id": "ab4a9467",
   "metadata": {},
   "outputs": [
    {
     "data": {
      "text/plain": [
       "[]"
      ]
     },
     "execution_count": 777,
     "metadata": {},
     "output_type": "execute_result"
    }
   ],
   "source": [
    "list0 = []\n",
    "for var in df.columns:\n",
    "    if (df[var].isnull().sum()>0):\n",
    "        list0.append(var)\n",
    "list0 \n",
    "\n",
    "# there are no more null values now"
   ]
  },
  {
   "cell_type": "code",
   "execution_count": 778,
   "id": "a69f536f",
   "metadata": {},
   "outputs": [],
   "source": [
    "def vardefiner(df):\n",
    "    lst = df.columns\n",
    "    l = []\n",
    "    l_i = []\n",
    "    l_f = []\n",
    "    l_c = []\n",
    "    l_b = []\n",
    "    for var in lst:\n",
    "        if df[var].dtype=='O':\n",
    "            l_b.append(var)\n",
    "        elif (len(df[var].unique())<=2)&(df[var].dtype=='O'):\n",
    "            l_c.append(var)\n",
    "        elif df[var].dtype=='float':\n",
    "            l_f.append(var)\n",
    "        else:\n",
    "            l_i.append(var)\n",
    "        \n",
    "    l = [l_b,l_c,l_f,l_i]\n",
    "    return(l)\n",
    "\n",
    "\n",
    "varlist = vardefiner(df) # a function to classify the variables\n",
    "binary_vars = varlist[0]\n",
    "cat_vars = varlist[1]\n",
    "float_vars = varlist[2] # useful for inspecting variables\n",
    "int_vars = varlist[3]\n",
    "\n",
    "\n",
    "numlist = int_vars + float_vars\n",
    "stringlist = binary_vars + cat_vars"
   ]
  },
  {
   "cell_type": "code",
   "execution_count": 779,
   "id": "2441ee94",
   "metadata": {},
   "outputs": [],
   "source": [
    "for var in numlist: # these columns don't have any information\n",
    "    if df[var].sum()==0:\n",
    "        df.drop(var, axis = 1, inplace = True)\n",
    "\n",
    "\n",
    "\n",
    "for var in stringlist: # dropping variables with only one level\n",
    "    if len(df[var].unique()) == 1:\n",
    "        df.drop(var, axis = 1, inplace = True)\n",
    "\n"
   ]
  },
  {
   "cell_type": "code",
   "execution_count": 780,
   "id": "74b13198",
   "metadata": {},
   "outputs": [],
   "source": [
    "varlist = vardefiner(df) # a function to classify the variables\n",
    "binary_vars = varlist[0]\n",
    "cat_vars = varlist[1]\n",
    "float_vars = varlist[2]\n",
    "int_vars = varlist[3]\n",
    "numlist = int_vars + float_vars\n",
    "stringlist = binary_vars + cat_vars"
   ]
  },
  {
   "cell_type": "code",
   "execution_count": 781,
   "id": "f395076c",
   "metadata": {},
   "outputs": [],
   "source": [
    "for var in stringlist:\n",
    "    if len(df[var].unique()) == 1: # these are of practically no use\n",
    "        df.drop(var, axis = 1, inplace = True)"
   ]
  },
  {
   "cell_type": "code",
   "execution_count": 782,
   "id": "cfdfec34",
   "metadata": {},
   "outputs": [
    {
     "name": "stdout",
     "output_type": "stream",
     "text": [
      "diskio_sda1_time_since_update ['1' '1.0228629112243652' '1.0591349601745603' ... 1.101564884185791\n",
      " 1.1031060218811035 1.0847859382629397] object\n",
      "diskio_sda_time_since_update ['1' '1.0228629112243652' '1.0591349601745603' ... 1.101564884185791\n",
      " 1.1031060218811035 1.0847859382629397] object\n",
      "fs_/_device_name ['/dev/mapper/centos-root' '/dev/sda1'] object\n",
      "fs_/_percent ['95.7' '95.8' '95.9' '96' '96.1' '96.7' '96.6' '96.8' '96.9' '95.1'\n",
      " '43.4' '43.5' 43.5 34.5 34.6 47.0 47.1 47.2 30.6 30.7 30.8 30.9 23.6 23.7\n",
      " 23.8 25.5 25.6 25.7] object\n",
      "fs_/_size ['4708106240' 4708106240 10725883904] object\n",
      "network_lo_cx ['200' '0' '288' 0 656 288.0] object\n",
      "network_lo_tx ['100' '0' '144' 0 328 144.0] object\n",
      "system_hostname ['localhost.localdomain' 'vm1-graph-analytics' 'vm2-node' 'vm3-tomcat'\n",
      " 'vm4-web-server'] object\n",
      "system_os_version ['3.10.0-1062.12.1.el7.x86_64' '3.10.0-1062.el7.x86_64'] object\n",
      "timestamp ['2020-03-20 09:16:03' '2020-03-20 09:16:05' '2020-03-20 09:16:06' ...\n",
      " '2020-01-29 22:52:13' '2020-01-29 22:52:14' '2020-01-29 22:52:15'] object\n"
     ]
    }
   ],
   "source": [
    "for var in stringlist:\n",
    "    print(var, df[var].unique(), df[var].dtypes) \n",
    "    \n",
    "    # there are some numerics in cat_vars"
   ]
  },
  {
   "cell_type": "code",
   "execution_count": 783,
   "id": "2ef36f62",
   "metadata": {},
   "outputs": [],
   "source": [
    "stringlist.remove('system_os_version')\n",
    "stringlist.remove('fs_/_device_name')\n",
    "stringlist.remove('system_hostname')\n",
    "stringlist.remove('timestamp') # removing the original cat vars"
   ]
  },
  {
   "cell_type": "code",
   "execution_count": 784,
   "id": "c68fe899",
   "metadata": {},
   "outputs": [],
   "source": [
    "for var in stringlist:\n",
    "    df[var] = df[var].astype(float) # converting the remaining variables"
   ]
  },
  {
   "cell_type": "code",
   "execution_count": 785,
   "id": "abbf29f6",
   "metadata": {},
   "outputs": [],
   "source": [
    "varlist = vardefiner(df) # a function to classify the variables\n",
    "binary_vars = varlist[0]\n",
    "cat_vars = varlist[1]\n",
    "float_vars = varlist[2]\n",
    "int_vars = varlist[3]\n",
    "numlist = int_vars + float_vars\n",
    "stringlist = binary_vars + cat_vars"
   ]
  },
  {
   "cell_type": "code",
   "execution_count": 786,
   "id": "e2823e11",
   "metadata": {},
   "outputs": [],
   "source": [
    "numlist.remove('flag')\n",
    "cpu = []\n",
    "diskio = []\n",
    "mem = []\n",
    "network = []\n",
    "load = []\n",
    "fs = []\n",
    "processcount = []\n",
    "for var in numlist:\n",
    "    if (var[:3] == 'cpu')or(var[3:6]=='cpu'):\n",
    "        cpu.append(var)\n",
    "    elif var[:3] == 'mem':\n",
    "        mem.append(var)\n",
    "    elif var[:6] == 'diskio':\n",
    "        diskio.append(var)\n",
    "    elif var[:7] == 'network':\n",
    "        network.append(var)\n",
    "    elif var[:4] == 'load':\n",
    "        load.append(var)\n",
    "    elif var[:3] == 'pro':\n",
    "        processcount.append(var)\n",
    "    else:\n",
    "        fs.append(var)  # dividing the numeric types baased on their types"
   ]
  },
  {
   "cell_type": "code",
   "execution_count": 787,
   "id": "6147dd13",
   "metadata": {},
   "outputs": [
    {
     "name": "stdout",
     "output_type": "stream",
     "text": [
      "fs_/_device_name ['/dev/mapper/centos-root' '/dev/sda1']\n",
      "system_hostname ['localhost.localdomain' 'vm1-graph-analytics' 'vm2-node' 'vm3-tomcat'\n",
      " 'vm4-web-server']\n",
      "system_os_version ['3.10.0-1062.12.1.el7.x86_64' '3.10.0-1062.el7.x86_64']\n",
      "timestamp ['2020-03-20 09:16:03' '2020-03-20 09:16:05' '2020-03-20 09:16:06' ...\n",
      " '2020-01-29 22:52:13' '2020-01-29 22:52:14' '2020-01-29 22:52:15']\n"
     ]
    }
   ],
   "source": [
    "for var in stringlist:\n",
    "    print(var, df[var].unique(), ) # remaining object types"
   ]
  },
  {
   "cell_type": "code",
   "execution_count": 788,
   "id": "085c9a50",
   "metadata": {},
   "outputs": [
    {
     "data": {
      "text/plain": [
       "(95310, 61)"
      ]
     },
     "execution_count": 788,
     "metadata": {},
     "output_type": "execute_result"
    }
   ],
   "source": [
    "from datetime import datetime\n",
    "\n",
    "#we will see how certain variables act over the timeline\n",
    "\n",
    "df['datetime'] = pd.to_datetime(df['timestamp'], format='%Y-%m-%d %H:%M:%S')\n",
    "df.shape"
   ]
  },
  {
   "cell_type": "code",
   "execution_count": 789,
   "id": "d4e8a6ec",
   "metadata": {},
   "outputs": [],
   "source": [
    "df.drop('timestamp', axis = 1, inplace = True)"
   ]
  },
  {
   "cell_type": "code",
   "execution_count": 790,
   "id": "c869a796",
   "metadata": {},
   "outputs": [
    {
     "data": {
      "text/plain": [
       "0       2020-03-20 09:16:03\n",
       "1       2020-03-20 09:16:05\n",
       "2       2020-03-20 09:16:06\n",
       "3       2020-03-20 09:16:07\n",
       "4       2020-03-20 09:16:08\n",
       "                ...        \n",
       "80846   2020-01-29 22:52:11\n",
       "80847   2020-01-29 22:52:12\n",
       "80848   2020-01-29 22:52:13\n",
       "80849   2020-01-29 22:52:14\n",
       "80850   2020-01-29 22:52:15\n",
       "Name: datetime, Length: 95310, dtype: datetime64[ns]"
      ]
     },
     "execution_count": 790,
     "metadata": {},
     "output_type": "execute_result"
    }
   ],
   "source": [
    "df['datetime']"
   ]
  },
  {
   "cell_type": "code",
   "execution_count": 791,
   "id": "8fd1e60c",
   "metadata": {},
   "outputs": [],
   "source": [
    "binary_vars.remove('timestamp')\n",
    "stringlist.remove('timestamp')"
   ]
  },
  {
   "cell_type": "markdown",
   "id": "8bc920a3",
   "metadata": {},
   "source": [
    "## Inspection"
   ]
  },
  {
   "cell_type": "markdown",
   "id": "7f695bfa",
   "metadata": {},
   "source": [
    "### Load Variables"
   ]
  },
  {
   "cell_type": "code",
   "execution_count": 792,
   "id": "e5a5f515",
   "metadata": {},
   "outputs": [
    {
     "data": {
      "text/html": [
       "<div>\n",
       "<style scoped>\n",
       "    .dataframe tbody tr th:only-of-type {\n",
       "        vertical-align: middle;\n",
       "    }\n",
       "\n",
       "    .dataframe tbody tr th {\n",
       "        vertical-align: top;\n",
       "    }\n",
       "\n",
       "    .dataframe thead th {\n",
       "        text-align: right;\n",
       "    }\n",
       "</style>\n",
       "<table border=\"1\" class=\"dataframe\">\n",
       "  <thead>\n",
       "    <tr style=\"text-align: right;\">\n",
       "      <th></th>\n",
       "      <th>load_cpucore</th>\n",
       "      <th>load_min1</th>\n",
       "      <th>load_min15</th>\n",
       "      <th>load_min5</th>\n",
       "    </tr>\n",
       "  </thead>\n",
       "  <tbody>\n",
       "    <tr>\n",
       "      <th>count</th>\n",
       "      <td>95310.000000</td>\n",
       "      <td>95310.000000</td>\n",
       "      <td>95310.000000</td>\n",
       "      <td>95310.000000</td>\n",
       "    </tr>\n",
       "    <tr>\n",
       "      <th>mean</th>\n",
       "      <td>1.045210</td>\n",
       "      <td>1.439928</td>\n",
       "      <td>1.348724</td>\n",
       "      <td>1.416121</td>\n",
       "    </tr>\n",
       "    <tr>\n",
       "      <th>std</th>\n",
       "      <td>0.207766</td>\n",
       "      <td>1.466245</td>\n",
       "      <td>1.374236</td>\n",
       "      <td>1.432308</td>\n",
       "    </tr>\n",
       "    <tr>\n",
       "      <th>min</th>\n",
       "      <td>1.000000</td>\n",
       "      <td>0.000000</td>\n",
       "      <td>0.050000</td>\n",
       "      <td>0.020000</td>\n",
       "    </tr>\n",
       "    <tr>\n",
       "      <th>25%</th>\n",
       "      <td>1.000000</td>\n",
       "      <td>0.180000</td>\n",
       "      <td>0.210000</td>\n",
       "      <td>0.190000</td>\n",
       "    </tr>\n",
       "    <tr>\n",
       "      <th>50%</th>\n",
       "      <td>1.000000</td>\n",
       "      <td>0.520000</td>\n",
       "      <td>0.270000</td>\n",
       "      <td>0.340000</td>\n",
       "    </tr>\n",
       "    <tr>\n",
       "      <th>75%</th>\n",
       "      <td>1.000000</td>\n",
       "      <td>3.010000</td>\n",
       "      <td>3.100000</td>\n",
       "      <td>3.120000</td>\n",
       "    </tr>\n",
       "    <tr>\n",
       "      <th>max</th>\n",
       "      <td>2.000000</td>\n",
       "      <td>5.550000</td>\n",
       "      <td>4.200000</td>\n",
       "      <td>4.510000</td>\n",
       "    </tr>\n",
       "  </tbody>\n",
       "</table>\n",
       "</div>"
      ],
      "text/plain": [
       "       load_cpucore     load_min1    load_min15     load_min5\n",
       "count  95310.000000  95310.000000  95310.000000  95310.000000\n",
       "mean       1.045210      1.439928      1.348724      1.416121\n",
       "std        0.207766      1.466245      1.374236      1.432308\n",
       "min        1.000000      0.000000      0.050000      0.020000\n",
       "25%        1.000000      0.180000      0.210000      0.190000\n",
       "50%        1.000000      0.520000      0.270000      0.340000\n",
       "75%        1.000000      3.010000      3.100000      3.120000\n",
       "max        2.000000      5.550000      4.200000      4.510000"
      ]
     },
     "execution_count": 792,
     "metadata": {},
     "output_type": "execute_result"
    }
   ],
   "source": [
    "df[load].describe()"
   ]
  },
  {
   "cell_type": "code",
   "execution_count": 793,
   "id": "bf657029",
   "metadata": {},
   "outputs": [
    {
     "data": {
      "text/plain": [
       "count    4309.000000\n",
       "mean        3.680733\n",
       "std         0.412826\n",
       "min         0.960000\n",
       "25%         3.600000\n",
       "50%         3.730000\n",
       "75%         3.860000\n",
       "max         4.650000\n",
       "Name: load_min1, dtype: float64"
      ]
     },
     "execution_count": 793,
     "metadata": {},
     "output_type": "execute_result"
    }
   ],
   "source": [
    "\n",
    "df_lu = df[df['load_cpucore']>1]\n",
    "\n",
    "df[df['load_cpucore']>1].load_min1.describe()"
   ]
  },
  {
   "cell_type": "code",
   "execution_count": 794,
   "id": "08ccfebe",
   "metadata": {},
   "outputs": [
    {
     "data": {
      "text/html": [
       "<div>\n",
       "<style scoped>\n",
       "    .dataframe tbody tr th:only-of-type {\n",
       "        vertical-align: middle;\n",
       "    }\n",
       "\n",
       "    .dataframe tbody tr th {\n",
       "        vertical-align: top;\n",
       "    }\n",
       "\n",
       "    .dataframe thead th {\n",
       "        text-align: right;\n",
       "    }\n",
       "</style>\n",
       "<table border=\"1\" class=\"dataframe\">\n",
       "  <thead>\n",
       "    <tr style=\"text-align: right;\">\n",
       "      <th></th>\n",
       "      <th>load_cpucore</th>\n",
       "      <th>load_min1</th>\n",
       "      <th>load_min15</th>\n",
       "      <th>load_min5</th>\n",
       "    </tr>\n",
       "  </thead>\n",
       "  <tbody>\n",
       "    <tr>\n",
       "      <th>count</th>\n",
       "      <td>4309.0</td>\n",
       "      <td>4309.000000</td>\n",
       "      <td>4309.000000</td>\n",
       "      <td>4309.000000</td>\n",
       "    </tr>\n",
       "    <tr>\n",
       "      <th>mean</th>\n",
       "      <td>2.0</td>\n",
       "      <td>3.680733</td>\n",
       "      <td>3.135024</td>\n",
       "      <td>3.545523</td>\n",
       "    </tr>\n",
       "    <tr>\n",
       "      <th>std</th>\n",
       "      <td>0.0</td>\n",
       "      <td>0.412826</td>\n",
       "      <td>0.899465</td>\n",
       "      <td>0.621365</td>\n",
       "    </tr>\n",
       "    <tr>\n",
       "      <th>min</th>\n",
       "      <td>2.0</td>\n",
       "      <td>0.960000</td>\n",
       "      <td>0.180000</td>\n",
       "      <td>0.420000</td>\n",
       "    </tr>\n",
       "    <tr>\n",
       "      <th>25%</th>\n",
       "      <td>2.0</td>\n",
       "      <td>3.600000</td>\n",
       "      <td>2.890000</td>\n",
       "      <td>3.670000</td>\n",
       "    </tr>\n",
       "    <tr>\n",
       "      <th>50%</th>\n",
       "      <td>2.0</td>\n",
       "      <td>3.730000</td>\n",
       "      <td>3.600000</td>\n",
       "      <td>3.740000</td>\n",
       "    </tr>\n",
       "    <tr>\n",
       "      <th>75%</th>\n",
       "      <td>2.0</td>\n",
       "      <td>3.860000</td>\n",
       "      <td>3.700000</td>\n",
       "      <td>3.790000</td>\n",
       "    </tr>\n",
       "    <tr>\n",
       "      <th>max</th>\n",
       "      <td>2.0</td>\n",
       "      <td>4.650000</td>\n",
       "      <td>3.800000</td>\n",
       "      <td>4.000000</td>\n",
       "    </tr>\n",
       "  </tbody>\n",
       "</table>\n",
       "</div>"
      ],
      "text/plain": [
       "       load_cpucore    load_min1   load_min15    load_min5\n",
       "count        4309.0  4309.000000  4309.000000  4309.000000\n",
       "mean            2.0     3.680733     3.135024     3.545523\n",
       "std             0.0     0.412826     0.899465     0.621365\n",
       "min             2.0     0.960000     0.180000     0.420000\n",
       "25%             2.0     3.600000     2.890000     3.670000\n",
       "50%             2.0     3.730000     3.600000     3.740000\n",
       "75%             2.0     3.860000     3.700000     3.790000\n",
       "max             2.0     4.650000     3.800000     4.000000"
      ]
     },
     "execution_count": 794,
     "metadata": {},
     "output_type": "execute_result"
    }
   ],
   "source": [
    "df_lu[load].describe()"
   ]
  },
  {
   "cell_type": "code",
   "execution_count": 795,
   "id": "edbc655a",
   "metadata": {},
   "outputs": [],
   "source": [
    "df_ld = df[df['load_cpucore']<=1]"
   ]
  },
  {
   "cell_type": "code",
   "execution_count": 796,
   "id": "e3bbaceb",
   "metadata": {},
   "outputs": [
    {
     "data": {
      "text/html": [
       "<div>\n",
       "<style scoped>\n",
       "    .dataframe tbody tr th:only-of-type {\n",
       "        vertical-align: middle;\n",
       "    }\n",
       "\n",
       "    .dataframe tbody tr th {\n",
       "        vertical-align: top;\n",
       "    }\n",
       "\n",
       "    .dataframe thead th {\n",
       "        text-align: right;\n",
       "    }\n",
       "</style>\n",
       "<table border=\"1\" class=\"dataframe\">\n",
       "  <thead>\n",
       "    <tr style=\"text-align: right;\">\n",
       "      <th></th>\n",
       "      <th>load_cpucore</th>\n",
       "      <th>load_min1</th>\n",
       "      <th>load_min15</th>\n",
       "      <th>load_min5</th>\n",
       "    </tr>\n",
       "  </thead>\n",
       "  <tbody>\n",
       "    <tr>\n",
       "      <th>count</th>\n",
       "      <td>91001.0</td>\n",
       "      <td>91001.000000</td>\n",
       "      <td>91001.000000</td>\n",
       "      <td>91001.000000</td>\n",
       "    </tr>\n",
       "    <tr>\n",
       "      <th>mean</th>\n",
       "      <td>1.0</td>\n",
       "      <td>1.333823</td>\n",
       "      <td>1.264140</td>\n",
       "      <td>1.315291</td>\n",
       "    </tr>\n",
       "    <tr>\n",
       "      <th>std</th>\n",
       "      <td>0.0</td>\n",
       "      <td>1.412298</td>\n",
       "      <td>1.334691</td>\n",
       "      <td>1.380397</td>\n",
       "    </tr>\n",
       "    <tr>\n",
       "      <th>min</th>\n",
       "      <td>1.0</td>\n",
       "      <td>0.000000</td>\n",
       "      <td>0.050000</td>\n",
       "      <td>0.020000</td>\n",
       "    </tr>\n",
       "    <tr>\n",
       "      <th>25%</th>\n",
       "      <td>1.0</td>\n",
       "      <td>0.170000</td>\n",
       "      <td>0.200000</td>\n",
       "      <td>0.190000</td>\n",
       "    </tr>\n",
       "    <tr>\n",
       "      <th>50%</th>\n",
       "      <td>1.0</td>\n",
       "      <td>0.410000</td>\n",
       "      <td>0.250000</td>\n",
       "      <td>0.300000</td>\n",
       "    </tr>\n",
       "    <tr>\n",
       "      <th>75%</th>\n",
       "      <td>1.0</td>\n",
       "      <td>2.740000</td>\n",
       "      <td>2.550000</td>\n",
       "      <td>2.960000</td>\n",
       "    </tr>\n",
       "    <tr>\n",
       "      <th>max</th>\n",
       "      <td>1.0</td>\n",
       "      <td>5.550000</td>\n",
       "      <td>4.200000</td>\n",
       "      <td>4.510000</td>\n",
       "    </tr>\n",
       "  </tbody>\n",
       "</table>\n",
       "</div>"
      ],
      "text/plain": [
       "       load_cpucore     load_min1    load_min15     load_min5\n",
       "count       91001.0  91001.000000  91001.000000  91001.000000\n",
       "mean            1.0      1.333823      1.264140      1.315291\n",
       "std             0.0      1.412298      1.334691      1.380397\n",
       "min             1.0      0.000000      0.050000      0.020000\n",
       "25%             1.0      0.170000      0.200000      0.190000\n",
       "50%             1.0      0.410000      0.250000      0.300000\n",
       "75%             1.0      2.740000      2.550000      2.960000\n",
       "max             1.0      5.550000      4.200000      4.510000"
      ]
     },
     "execution_count": 796,
     "metadata": {},
     "output_type": "execute_result"
    }
   ],
   "source": [
    "df_ld[load].describe()"
   ]
  },
  {
   "cell_type": "markdown",
   "id": "4d224b7b",
   "metadata": {},
   "source": [
    "### CPU feature Variables"
   ]
  },
  {
   "cell_type": "code",
   "execution_count": 797,
   "id": "026454c6",
   "metadata": {},
   "outputs": [
    {
     "data": {
      "text/html": [
       "<div>\n",
       "<style scoped>\n",
       "    .dataframe tbody tr th:only-of-type {\n",
       "        vertical-align: middle;\n",
       "    }\n",
       "\n",
       "    .dataframe tbody tr th {\n",
       "        vertical-align: top;\n",
       "    }\n",
       "\n",
       "    .dataframe thead th {\n",
       "        text-align: right;\n",
       "    }\n",
       "</style>\n",
       "<table border=\"1\" class=\"dataframe\">\n",
       "  <thead>\n",
       "    <tr style=\"text-align: right;\">\n",
       "      <th></th>\n",
       "      <th>cpu_idle</th>\n",
       "      <th>cpu_iowait</th>\n",
       "      <th>cpu_nice</th>\n",
       "      <th>cpu_softirq</th>\n",
       "      <th>cpu_system</th>\n",
       "      <th>cpu_total</th>\n",
       "      <th>cpu_user</th>\n",
       "      <th>percpu_0_idle</th>\n",
       "      <th>percpu_0_iowait</th>\n",
       "      <th>percpu_0_nice</th>\n",
       "      <th>percpu_0_softirq</th>\n",
       "      <th>percpu_0_system</th>\n",
       "      <th>percpu_0_total</th>\n",
       "      <th>percpu_0_user</th>\n",
       "    </tr>\n",
       "  </thead>\n",
       "  <tbody>\n",
       "    <tr>\n",
       "      <th>count</th>\n",
       "      <td>95310.000000</td>\n",
       "      <td>95310.000000</td>\n",
       "      <td>95310.000000</td>\n",
       "      <td>95310.000000</td>\n",
       "      <td>95310.000000</td>\n",
       "      <td>95310.000000</td>\n",
       "      <td>95310.000000</td>\n",
       "      <td>95310.000000</td>\n",
       "      <td>95310.000000</td>\n",
       "      <td>95310.000000</td>\n",
       "      <td>95310.000000</td>\n",
       "      <td>95310.000000</td>\n",
       "      <td>95310.000000</td>\n",
       "      <td>95310.000000</td>\n",
       "    </tr>\n",
       "    <tr>\n",
       "      <th>mean</th>\n",
       "      <td>50.092828</td>\n",
       "      <td>0.003336</td>\n",
       "      <td>0.004094</td>\n",
       "      <td>0.068612</td>\n",
       "      <td>3.348626</td>\n",
       "      <td>49.934123</td>\n",
       "      <td>39.904601</td>\n",
       "      <td>50.047247</td>\n",
       "      <td>0.003525</td>\n",
       "      <td>0.004084</td>\n",
       "      <td>0.054764</td>\n",
       "      <td>3.317834</td>\n",
       "      <td>49.952753</td>\n",
       "      <td>39.124444</td>\n",
       "    </tr>\n",
       "    <tr>\n",
       "      <th>std</th>\n",
       "      <td>45.256183</td>\n",
       "      <td>0.057063</td>\n",
       "      <td>0.466298</td>\n",
       "      <td>0.271454</td>\n",
       "      <td>1.521660</td>\n",
       "      <td>45.247559</td>\n",
       "      <td>41.977910</td>\n",
       "      <td>45.259543</td>\n",
       "      <td>0.068033</td>\n",
       "      <td>0.466377</td>\n",
       "      <td>0.234905</td>\n",
       "      <td>1.553371</td>\n",
       "      <td>45.259543</td>\n",
       "      <td>41.011366</td>\n",
       "    </tr>\n",
       "    <tr>\n",
       "      <th>min</th>\n",
       "      <td>0.000000</td>\n",
       "      <td>0.000000</td>\n",
       "      <td>0.000000</td>\n",
       "      <td>0.000000</td>\n",
       "      <td>0.000000</td>\n",
       "      <td>3.200000</td>\n",
       "      <td>1.000000</td>\n",
       "      <td>0.000000</td>\n",
       "      <td>0.000000</td>\n",
       "      <td>0.000000</td>\n",
       "      <td>0.000000</td>\n",
       "      <td>0.000000</td>\n",
       "      <td>3.300000</td>\n",
       "      <td>1.000000</td>\n",
       "    </tr>\n",
       "    <tr>\n",
       "      <th>25%</th>\n",
       "      <td>0.000000</td>\n",
       "      <td>0.000000</td>\n",
       "      <td>0.000000</td>\n",
       "      <td>0.000000</td>\n",
       "      <td>2.500000</td>\n",
       "      <td>8.300000</td>\n",
       "      <td>5.500000</td>\n",
       "      <td>0.000000</td>\n",
       "      <td>0.000000</td>\n",
       "      <td>0.000000</td>\n",
       "      <td>0.000000</td>\n",
       "      <td>2.500000</td>\n",
       "      <td>8.300000</td>\n",
       "      <td>5.500000</td>\n",
       "    </tr>\n",
       "    <tr>\n",
       "      <th>50%</th>\n",
       "      <td>88.900000</td>\n",
       "      <td>0.000000</td>\n",
       "      <td>0.000000</td>\n",
       "      <td>0.000000</td>\n",
       "      <td>2.800000</td>\n",
       "      <td>11.100000</td>\n",
       "      <td>7.300000</td>\n",
       "      <td>88.900000</td>\n",
       "      <td>0.000000</td>\n",
       "      <td>0.000000</td>\n",
       "      <td>0.000000</td>\n",
       "      <td>2.800000</td>\n",
       "      <td>11.100000</td>\n",
       "      <td>7.300000</td>\n",
       "    </tr>\n",
       "    <tr>\n",
       "      <th>75%</th>\n",
       "      <td>91.700000</td>\n",
       "      <td>0.000000</td>\n",
       "      <td>0.000000</td>\n",
       "      <td>0.000000</td>\n",
       "      <td>3.700000</td>\n",
       "      <td>100.000000</td>\n",
       "      <td>95.200000</td>\n",
       "      <td>91.700000</td>\n",
       "      <td>0.000000</td>\n",
       "      <td>0.000000</td>\n",
       "      <td>0.000000</td>\n",
       "      <td>3.700000</td>\n",
       "      <td>100.000000</td>\n",
       "      <td>94.500000</td>\n",
       "    </tr>\n",
       "    <tr>\n",
       "      <th>max</th>\n",
       "      <td>94.300000</td>\n",
       "      <td>3.600000</td>\n",
       "      <td>75.500000</td>\n",
       "      <td>3.000000</td>\n",
       "      <td>48.000000</td>\n",
       "      <td>100.000000</td>\n",
       "      <td>99.200000</td>\n",
       "      <td>96.700000</td>\n",
       "      <td>10.000000</td>\n",
       "      <td>74.500000</td>\n",
       "      <td>3.000000</td>\n",
       "      <td>26.800000</td>\n",
       "      <td>100.000000</td>\n",
       "      <td>100.000000</td>\n",
       "    </tr>\n",
       "  </tbody>\n",
       "</table>\n",
       "</div>"
      ],
      "text/plain": [
       "           cpu_idle    cpu_iowait      cpu_nice   cpu_softirq    cpu_system  \\\n",
       "count  95310.000000  95310.000000  95310.000000  95310.000000  95310.000000   \n",
       "mean      50.092828      0.003336      0.004094      0.068612      3.348626   \n",
       "std       45.256183      0.057063      0.466298      0.271454      1.521660   \n",
       "min        0.000000      0.000000      0.000000      0.000000      0.000000   \n",
       "25%        0.000000      0.000000      0.000000      0.000000      2.500000   \n",
       "50%       88.900000      0.000000      0.000000      0.000000      2.800000   \n",
       "75%       91.700000      0.000000      0.000000      0.000000      3.700000   \n",
       "max       94.300000      3.600000     75.500000      3.000000     48.000000   \n",
       "\n",
       "          cpu_total      cpu_user  percpu_0_idle  percpu_0_iowait  \\\n",
       "count  95310.000000  95310.000000   95310.000000     95310.000000   \n",
       "mean      49.934123     39.904601      50.047247         0.003525   \n",
       "std       45.247559     41.977910      45.259543         0.068033   \n",
       "min        3.200000      1.000000       0.000000         0.000000   \n",
       "25%        8.300000      5.500000       0.000000         0.000000   \n",
       "50%       11.100000      7.300000      88.900000         0.000000   \n",
       "75%      100.000000     95.200000      91.700000         0.000000   \n",
       "max      100.000000     99.200000      96.700000        10.000000   \n",
       "\n",
       "       percpu_0_nice  percpu_0_softirq  percpu_0_system  percpu_0_total  \\\n",
       "count   95310.000000      95310.000000     95310.000000    95310.000000   \n",
       "mean        0.004084          0.054764         3.317834       49.952753   \n",
       "std         0.466377          0.234905         1.553371       45.259543   \n",
       "min         0.000000          0.000000         0.000000        3.300000   \n",
       "25%         0.000000          0.000000         2.500000        8.300000   \n",
       "50%         0.000000          0.000000         2.800000       11.100000   \n",
       "75%         0.000000          0.000000         3.700000      100.000000   \n",
       "max        74.500000          3.000000        26.800000      100.000000   \n",
       "\n",
       "       percpu_0_user  \n",
       "count   95310.000000  \n",
       "mean       39.124444  \n",
       "std        41.011366  \n",
       "min         1.000000  \n",
       "25%         5.500000  \n",
       "50%         7.300000  \n",
       "75%        94.500000  \n",
       "max       100.000000  "
      ]
     },
     "execution_count": 797,
     "metadata": {},
     "output_type": "execute_result"
    }
   ],
   "source": [
    "df[cpu].describe()"
   ]
  },
  {
   "cell_type": "code",
   "execution_count": 798,
   "id": "204f613d",
   "metadata": {},
   "outputs": [
    {
     "data": {
      "text/plain": [
       "(25439, 60)"
      ]
     },
     "execution_count": 798,
     "metadata": {},
     "output_type": "execute_result"
    }
   ],
   "source": [
    "df[df['cpu_user']>=95].shape"
   ]
  },
  {
   "cell_type": "code",
   "execution_count": 799,
   "id": "3992b39d",
   "metadata": {},
   "outputs": [
    {
     "data": {
      "text/plain": [
       "(344, 60)"
      ]
     },
     "execution_count": 799,
     "metadata": {},
     "output_type": "execute_result"
    }
   ],
   "source": [
    "df[df['cpu_iowait']>0].shape"
   ]
  },
  {
   "cell_type": "code",
   "execution_count": 800,
   "id": "a54589d6",
   "metadata": {},
   "outputs": [
    {
     "data": {
      "text/plain": [
       "(59, 60)"
      ]
     },
     "execution_count": 800,
     "metadata": {},
     "output_type": "execute_result"
    }
   ],
   "source": [
    "df[df['cpu_nice']>0].shape"
   ]
  },
  {
   "cell_type": "code",
   "execution_count": 801,
   "id": "07234e1b",
   "metadata": {},
   "outputs": [
    {
     "data": {
      "text/plain": [
       "(6310, 60)"
      ]
     },
     "execution_count": 801,
     "metadata": {},
     "output_type": "execute_result"
    }
   ],
   "source": [
    "df[df['cpu_softirq']>0].shape"
   ]
  },
  {
   "cell_type": "markdown",
   "id": "9044cf1b",
   "metadata": {},
   "source": [
    "#### The CPU variables are devided into two matrices, cpu and percpu\n",
    "- Each of them have these variables\n",
    "  - idle \n",
    "  - iowait* \n",
    "  - nice*\n",
    "  - softirq*\n",
    "  - system\n",
    "  - total\n",
    "  - user\n",
    "- In these the starred variables are irksome, because\n",
    "  - few of the rows display suspicious behaviour, meaning they are not statistically regular with the remaining data\n",
    "- We will flag the records that show these divergent tendencies"
   ]
  },
  {
   "cell_type": "code",
   "execution_count": 802,
   "id": "cbdf5e07",
   "metadata": {},
   "outputs": [],
   "source": [
    "cpuflags = ['cpu_iowait','cpu_nice','cpu_softirq','percpu_0_iowait','percpu_0_nice','percpu_0_softirq']"
   ]
  },
  {
   "cell_type": "code",
   "execution_count": 803,
   "id": "90b60f72",
   "metadata": {},
   "outputs": [],
   "source": [
    "def flaglist(x):\n",
    "    if x>0:\n",
    "        return 1\n",
    "    else:\n",
    "        return 0"
   ]
  },
  {
   "cell_type": "code",
   "execution_count": 804,
   "id": "bf1640ec",
   "metadata": {},
   "outputs": [],
   "source": [
    "for var in cpuflags:\n",
    "    df[var+'_flag'] = df[var].apply(flaglist)"
   ]
  },
  {
   "cell_type": "markdown",
   "id": "c9b02f8f",
   "metadata": {},
   "source": [
    "### DISKio variables"
   ]
  },
  {
   "cell_type": "code",
   "execution_count": 805,
   "id": "7ee98a70",
   "metadata": {},
   "outputs": [
    {
     "data": {
      "text/html": [
       "<div>\n",
       "<style scoped>\n",
       "    .dataframe tbody tr th:only-of-type {\n",
       "        vertical-align: middle;\n",
       "    }\n",
       "\n",
       "    .dataframe tbody tr th {\n",
       "        vertical-align: top;\n",
       "    }\n",
       "\n",
       "    .dataframe thead th {\n",
       "        text-align: right;\n",
       "    }\n",
       "</style>\n",
       "<table border=\"1\" class=\"dataframe\">\n",
       "  <thead>\n",
       "    <tr style=\"text-align: right;\">\n",
       "      <th></th>\n",
       "      <th>diskio_sda1_write_bytes</th>\n",
       "      <th>diskio_sda_write_bytes</th>\n",
       "      <th>diskio_sda1_read_bytes</th>\n",
       "      <th>diskio_sda1_time_since_update</th>\n",
       "      <th>diskio_sda_read_bytes</th>\n",
       "      <th>diskio_sda_time_since_update</th>\n",
       "    </tr>\n",
       "  </thead>\n",
       "  <tbody>\n",
       "    <tr>\n",
       "      <th>count</th>\n",
       "      <td>9.531000e+04</td>\n",
       "      <td>9.531000e+04</td>\n",
       "      <td>95310.000000</td>\n",
       "      <td>95310.000000</td>\n",
       "      <td>9.531000e+04</td>\n",
       "      <td>95310.000000</td>\n",
       "    </tr>\n",
       "    <tr>\n",
       "      <th>mean</th>\n",
       "      <td>1.925485e+04</td>\n",
       "      <td>2.341422e+04</td>\n",
       "      <td>6.403357</td>\n",
       "      <td>1.162641</td>\n",
       "      <td>2.191023e+03</td>\n",
       "      <td>1.162641</td>\n",
       "    </tr>\n",
       "    <tr>\n",
       "      <th>std</th>\n",
       "      <td>1.212751e+05</td>\n",
       "      <td>1.887162e+05</td>\n",
       "      <td>1481.391724</td>\n",
       "      <td>0.121199</td>\n",
       "      <td>1.378945e+05</td>\n",
       "      <td>0.121199</td>\n",
       "    </tr>\n",
       "    <tr>\n",
       "      <th>min</th>\n",
       "      <td>0.000000e+00</td>\n",
       "      <td>0.000000e+00</td>\n",
       "      <td>0.000000</td>\n",
       "      <td>0.652700</td>\n",
       "      <td>0.000000e+00</td>\n",
       "      <td>0.652700</td>\n",
       "    </tr>\n",
       "    <tr>\n",
       "      <th>25%</th>\n",
       "      <td>0.000000e+00</td>\n",
       "      <td>0.000000e+00</td>\n",
       "      <td>0.000000</td>\n",
       "      <td>1.087129</td>\n",
       "      <td>0.000000e+00</td>\n",
       "      <td>1.087129</td>\n",
       "    </tr>\n",
       "    <tr>\n",
       "      <th>50%</th>\n",
       "      <td>0.000000e+00</td>\n",
       "      <td>0.000000e+00</td>\n",
       "      <td>0.000000</td>\n",
       "      <td>1.093017</td>\n",
       "      <td>0.000000e+00</td>\n",
       "      <td>1.093017</td>\n",
       "    </tr>\n",
       "    <tr>\n",
       "      <th>75%</th>\n",
       "      <td>0.000000e+00</td>\n",
       "      <td>0.000000e+00</td>\n",
       "      <td>0.000000</td>\n",
       "      <td>1.209975</td>\n",
       "      <td>0.000000e+00</td>\n",
       "      <td>1.209975</td>\n",
       "    </tr>\n",
       "    <tr>\n",
       "      <th>max</th>\n",
       "      <td>3.051520e+06</td>\n",
       "      <td>3.473408e+07</td>\n",
       "      <td>454656.000000</td>\n",
       "      <td>2.127072</td>\n",
       "      <td>1.922662e+07</td>\n",
       "      <td>2.127072</td>\n",
       "    </tr>\n",
       "  </tbody>\n",
       "</table>\n",
       "</div>"
      ],
      "text/plain": [
       "       diskio_sda1_write_bytes  diskio_sda_write_bytes  \\\n",
       "count             9.531000e+04            9.531000e+04   \n",
       "mean              1.925485e+04            2.341422e+04   \n",
       "std               1.212751e+05            1.887162e+05   \n",
       "min               0.000000e+00            0.000000e+00   \n",
       "25%               0.000000e+00            0.000000e+00   \n",
       "50%               0.000000e+00            0.000000e+00   \n",
       "75%               0.000000e+00            0.000000e+00   \n",
       "max               3.051520e+06            3.473408e+07   \n",
       "\n",
       "       diskio_sda1_read_bytes  diskio_sda1_time_since_update  \\\n",
       "count            95310.000000                   95310.000000   \n",
       "mean                 6.403357                       1.162641   \n",
       "std               1481.391724                       0.121199   \n",
       "min                  0.000000                       0.652700   \n",
       "25%                  0.000000                       1.087129   \n",
       "50%                  0.000000                       1.093017   \n",
       "75%                  0.000000                       1.209975   \n",
       "max             454656.000000                       2.127072   \n",
       "\n",
       "       diskio_sda_read_bytes  diskio_sda_time_since_update  \n",
       "count           9.531000e+04                  95310.000000  \n",
       "mean            2.191023e+03                      1.162641  \n",
       "std             1.378945e+05                      0.121199  \n",
       "min             0.000000e+00                      0.652700  \n",
       "25%             0.000000e+00                      1.087129  \n",
       "50%             0.000000e+00                      1.093017  \n",
       "75%             0.000000e+00                      1.209975  \n",
       "max             1.922662e+07                      2.127072  "
      ]
     },
     "execution_count": 805,
     "metadata": {},
     "output_type": "execute_result"
    }
   ],
   "source": [
    "df[diskio].describe()# we see the same tendencies here aswell"
   ]
  },
  {
   "cell_type": "code",
   "execution_count": 806,
   "id": "753f1c6d",
   "metadata": {},
   "outputs": [
    {
     "data": {
      "text/plain": [
       "(3984, 66)"
      ]
     },
     "execution_count": 806,
     "metadata": {},
     "output_type": "execute_result"
    }
   ],
   "source": [
    "df[df['diskio_sda1_write_bytes']>7*(10**4)].shape"
   ]
  },
  {
   "cell_type": "markdown",
   "id": "3342ceba",
   "metadata": {},
   "source": [
    "#### Problem Variables\n",
    "- diskio_sda1_write_bytes\n",
    "- diskio_sda1_write_bytes\n",
    "- diskio_sda1_read_bytes\n",
    "- diskio_sda_read_bytes"
   ]
  },
  {
   "cell_type": "code",
   "execution_count": 807,
   "id": "a25d7102",
   "metadata": {},
   "outputs": [],
   "source": [
    "ioflags = ['diskio_sda1_write_bytes','diskio_sda1_write_bytes']\n",
    "ioflags1 = ['diskio_sda1_read_bytes','diskio_sda_read_bytes']"
   ]
  },
  {
   "cell_type": "code",
   "execution_count": 808,
   "id": "1ae23f9d",
   "metadata": {},
   "outputs": [],
   "source": [
    "dfx = df[df['diskio_sda1_write_bytes']>0]"
   ]
  },
  {
   "cell_type": "code",
   "execution_count": 809,
   "id": "28b4e5db",
   "metadata": {},
   "outputs": [
    {
     "data": {
      "text/html": [
       "<div>\n",
       "<style scoped>\n",
       "    .dataframe tbody tr th:only-of-type {\n",
       "        vertical-align: middle;\n",
       "    }\n",
       "\n",
       "    .dataframe tbody tr th {\n",
       "        vertical-align: top;\n",
       "    }\n",
       "\n",
       "    .dataframe thead th {\n",
       "        text-align: right;\n",
       "    }\n",
       "</style>\n",
       "<table border=\"1\" class=\"dataframe\">\n",
       "  <thead>\n",
       "    <tr style=\"text-align: right;\">\n",
       "      <th></th>\n",
       "      <th>diskio_sda1_write_bytes</th>\n",
       "      <th>diskio_sda_write_bytes</th>\n",
       "      <th>diskio_sda1_read_bytes</th>\n",
       "      <th>diskio_sda1_time_since_update</th>\n",
       "      <th>diskio_sda_read_bytes</th>\n",
       "      <th>diskio_sda_time_since_update</th>\n",
       "    </tr>\n",
       "  </thead>\n",
       "  <tbody>\n",
       "    <tr>\n",
       "      <th>count</th>\n",
       "      <td>1.631100e+04</td>\n",
       "      <td>1.631100e+04</td>\n",
       "      <td>16311.000000</td>\n",
       "      <td>16311.000000</td>\n",
       "      <td>16311.000000</td>\n",
       "      <td>16311.000000</td>\n",
       "    </tr>\n",
       "    <tr>\n",
       "      <th>mean</th>\n",
       "      <td>1.125118e+05</td>\n",
       "      <td>1.125118e+05</td>\n",
       "      <td>9.291398</td>\n",
       "      <td>1.201828</td>\n",
       "      <td>9.291398</td>\n",
       "      <td>1.201828</td>\n",
       "    </tr>\n",
       "    <tr>\n",
       "      <th>std</th>\n",
       "      <td>2.746860e+05</td>\n",
       "      <td>2.746860e+05</td>\n",
       "      <td>386.092388</td>\n",
       "      <td>0.142082</td>\n",
       "      <td>386.092388</td>\n",
       "      <td>0.142082</td>\n",
       "    </tr>\n",
       "    <tr>\n",
       "      <th>min</th>\n",
       "      <td>4.096000e+03</td>\n",
       "      <td>4.096000e+03</td>\n",
       "      <td>0.000000</td>\n",
       "      <td>1.074106</td>\n",
       "      <td>0.000000</td>\n",
       "      <td>1.074106</td>\n",
       "    </tr>\n",
       "    <tr>\n",
       "      <th>25%</th>\n",
       "      <td>1.228800e+04</td>\n",
       "      <td>1.228800e+04</td>\n",
       "      <td>0.000000</td>\n",
       "      <td>1.087478</td>\n",
       "      <td>0.000000</td>\n",
       "      <td>1.087478</td>\n",
       "    </tr>\n",
       "    <tr>\n",
       "      <th>50%</th>\n",
       "      <td>2.457600e+04</td>\n",
       "      <td>2.457600e+04</td>\n",
       "      <td>0.000000</td>\n",
       "      <td>1.096492</td>\n",
       "      <td>0.000000</td>\n",
       "      <td>1.096492</td>\n",
       "    </tr>\n",
       "    <tr>\n",
       "      <th>75%</th>\n",
       "      <td>6.553600e+04</td>\n",
       "      <td>6.553600e+04</td>\n",
       "      <td>0.000000</td>\n",
       "      <td>1.356405</td>\n",
       "      <td>0.000000</td>\n",
       "      <td>1.356405</td>\n",
       "    </tr>\n",
       "    <tr>\n",
       "      <th>max</th>\n",
       "      <td>3.051520e+06</td>\n",
       "      <td>3.051520e+06</td>\n",
       "      <td>16384.000000</td>\n",
       "      <td>1.679426</td>\n",
       "      <td>16384.000000</td>\n",
       "      <td>1.679426</td>\n",
       "    </tr>\n",
       "  </tbody>\n",
       "</table>\n",
       "</div>"
      ],
      "text/plain": [
       "       diskio_sda1_write_bytes  diskio_sda_write_bytes  \\\n",
       "count             1.631100e+04            1.631100e+04   \n",
       "mean              1.125118e+05            1.125118e+05   \n",
       "std               2.746860e+05            2.746860e+05   \n",
       "min               4.096000e+03            4.096000e+03   \n",
       "25%               1.228800e+04            1.228800e+04   \n",
       "50%               2.457600e+04            2.457600e+04   \n",
       "75%               6.553600e+04            6.553600e+04   \n",
       "max               3.051520e+06            3.051520e+06   \n",
       "\n",
       "       diskio_sda1_read_bytes  diskio_sda1_time_since_update  \\\n",
       "count            16311.000000                   16311.000000   \n",
       "mean                 9.291398                       1.201828   \n",
       "std                386.092388                       0.142082   \n",
       "min                  0.000000                       1.074106   \n",
       "25%                  0.000000                       1.087478   \n",
       "50%                  0.000000                       1.096492   \n",
       "75%                  0.000000                       1.356405   \n",
       "max              16384.000000                       1.679426   \n",
       "\n",
       "       diskio_sda_read_bytes  diskio_sda_time_since_update  \n",
       "count           16311.000000                  16311.000000  \n",
       "mean                9.291398                      1.201828  \n",
       "std               386.092388                      0.142082  \n",
       "min                 0.000000                      1.074106  \n",
       "25%                 0.000000                      1.087478  \n",
       "50%                 0.000000                      1.096492  \n",
       "75%                 0.000000                      1.356405  \n",
       "max             16384.000000                      1.679426  "
      ]
     },
     "execution_count": 809,
     "metadata": {},
     "output_type": "execute_result"
    }
   ],
   "source": [
    "dfx[diskio].describe()"
   ]
  },
  {
   "cell_type": "code",
   "execution_count": 810,
   "id": "dd5b34b9",
   "metadata": {},
   "outputs": [
    {
     "data": {
      "text/plain": [
       "(12, 66)"
      ]
     },
     "execution_count": 810,
     "metadata": {},
     "output_type": "execute_result"
    }
   ],
   "source": [
    "df[df['diskio_sda1_read_bytes']>0].shape"
   ]
  },
  {
   "cell_type": "code",
   "execution_count": 811,
   "id": "1f8cdffe",
   "metadata": {},
   "outputs": [],
   "source": [
    "for var in ioflags:\n",
    "    df[var+'_flag'] = df[var].apply(flaglist)"
   ]
  },
  {
   "cell_type": "code",
   "execution_count": 812,
   "id": "ef50c703",
   "metadata": {},
   "outputs": [],
   "source": [
    "def flaglist1(x):\n",
    "    if x>7*(10**4):\n",
    "        return 1\n",
    "    else:\n",
    "        return 0"
   ]
  },
  {
   "cell_type": "code",
   "execution_count": 813,
   "id": "7f93ed87",
   "metadata": {},
   "outputs": [],
   "source": [
    "for var in ioflags1:\n",
    "    df[var+'_flag'] = df[var].apply(flaglist1)"
   ]
  },
  {
   "cell_type": "markdown",
   "id": "4de43a09",
   "metadata": {},
   "source": [
    "### Memory Variables"
   ]
  },
  {
   "cell_type": "code",
   "execution_count": 814,
   "id": "c51e0145",
   "metadata": {},
   "outputs": [
    {
     "data": {
      "text/html": [
       "<div>\n",
       "<style scoped>\n",
       "    .dataframe tbody tr th:only-of-type {\n",
       "        vertical-align: middle;\n",
       "    }\n",
       "\n",
       "    .dataframe tbody tr th {\n",
       "        vertical-align: top;\n",
       "    }\n",
       "\n",
       "    .dataframe thead th {\n",
       "        text-align: right;\n",
       "    }\n",
       "</style>\n",
       "<table border=\"1\" class=\"dataframe\">\n",
       "  <thead>\n",
       "    <tr style=\"text-align: right;\">\n",
       "      <th></th>\n",
       "      <th>mem_active</th>\n",
       "      <th>mem_available</th>\n",
       "      <th>mem_cached</th>\n",
       "      <th>mem_free</th>\n",
       "      <th>mem_inactive</th>\n",
       "      <th>mem_used</th>\n",
       "      <th>memswap_free</th>\n",
       "      <th>memswap_sin</th>\n",
       "      <th>memswap_sout</th>\n",
       "      <th>memswap_total</th>\n",
       "      <th>memswap_used</th>\n",
       "      <th>mem_buffers</th>\n",
       "      <th>mem_percent</th>\n",
       "      <th>mem_shared</th>\n",
       "      <th>mem_total</th>\n",
       "      <th>memswap_percent</th>\n",
       "    </tr>\n",
       "  </thead>\n",
       "  <tbody>\n",
       "    <tr>\n",
       "      <th>count</th>\n",
       "      <td>9.531000e+04</td>\n",
       "      <td>9.531000e+04</td>\n",
       "      <td>9.531000e+04</td>\n",
       "      <td>9.531000e+04</td>\n",
       "      <td>9.531000e+04</td>\n",
       "      <td>9.531000e+04</td>\n",
       "      <td>9.531000e+04</td>\n",
       "      <td>95310.000000</td>\n",
       "      <td>9.531000e+04</td>\n",
       "      <td>9.531000e+04</td>\n",
       "      <td>9.531000e+04</td>\n",
       "      <td>9.531000e+04</td>\n",
       "      <td>95310.000000</td>\n",
       "      <td>9.531000e+04</td>\n",
       "      <td>9.531000e+04</td>\n",
       "      <td>95310.000000</td>\n",
       "    </tr>\n",
       "    <tr>\n",
       "      <th>mean</th>\n",
       "      <td>7.304257e+08</td>\n",
       "      <td>2.643991e+09</td>\n",
       "      <td>1.126026e+09</td>\n",
       "      <td>2.643991e+09</td>\n",
       "      <td>4.683325e+08</td>\n",
       "      <td>1.014084e+09</td>\n",
       "      <td>9.789841e+07</td>\n",
       "      <td>1407.621278</td>\n",
       "      <td>8.791848e+04</td>\n",
       "      <td>9.799585e+07</td>\n",
       "      <td>9.744733e+04</td>\n",
       "      <td>1.515775e+06</td>\n",
       "      <td>28.036302</td>\n",
       "      <td>8.841971e+06</td>\n",
       "      <td>3.658076e+09</td>\n",
       "      <td>0.013342</td>\n",
       "    </tr>\n",
       "    <tr>\n",
       "      <th>std</th>\n",
       "      <td>4.362575e+08</td>\n",
       "      <td>8.222815e+08</td>\n",
       "      <td>5.762290e+08</td>\n",
       "      <td>8.222815e+08</td>\n",
       "      <td>2.604473e+08</td>\n",
       "      <td>8.028522e+08</td>\n",
       "      <td>2.314921e+08</td>\n",
       "      <td>10478.797410</td>\n",
       "      <td>7.899621e+05</td>\n",
       "      <td>2.317212e+08</td>\n",
       "      <td>8.038916e+05</td>\n",
       "      <td>9.426470e+05</td>\n",
       "      <td>20.663529</td>\n",
       "      <td>3.821109e+05</td>\n",
       "      <td>4.773769e+08</td>\n",
       "      <td>0.120408</td>\n",
       "    </tr>\n",
       "    <tr>\n",
       "      <th>min</th>\n",
       "      <td>1.990943e+08</td>\n",
       "      <td>3.805512e+08</td>\n",
       "      <td>3.616645e+08</td>\n",
       "      <td>3.805512e+08</td>\n",
       "      <td>1.708851e+08</td>\n",
       "      <td>4.581171e+08</td>\n",
       "      <td>0.000000e+00</td>\n",
       "      <td>0.000000</td>\n",
       "      <td>0.000000e+00</td>\n",
       "      <td>0.000000e+00</td>\n",
       "      <td>0.000000e+00</td>\n",
       "      <td>0.000000e+00</td>\n",
       "      <td>11.500000</td>\n",
       "      <td>6.938624e+06</td>\n",
       "      <td>1.039180e+09</td>\n",
       "      <td>0.000000</td>\n",
       "    </tr>\n",
       "    <tr>\n",
       "      <th>25%</th>\n",
       "      <td>5.265009e+08</td>\n",
       "      <td>2.584774e+09</td>\n",
       "      <td>7.167437e+08</td>\n",
       "      <td>2.584774e+09</td>\n",
       "      <td>3.329393e+08</td>\n",
       "      <td>6.605169e+08</td>\n",
       "      <td>0.000000e+00</td>\n",
       "      <td>0.000000</td>\n",
       "      <td>0.000000e+00</td>\n",
       "      <td>0.000000e+00</td>\n",
       "      <td>0.000000e+00</td>\n",
       "      <td>1.679360e+05</td>\n",
       "      <td>17.800000</td>\n",
       "      <td>8.863744e+06</td>\n",
       "      <td>3.709407e+09</td>\n",
       "      <td>0.000000</td>\n",
       "    </tr>\n",
       "    <tr>\n",
       "      <th>50%</th>\n",
       "      <td>5.646090e+08</td>\n",
       "      <td>3.031523e+09</td>\n",
       "      <td>8.777667e+08</td>\n",
       "      <td>3.031523e+09</td>\n",
       "      <td>3.329556e+08</td>\n",
       "      <td>6.775767e+08</td>\n",
       "      <td>0.000000e+00</td>\n",
       "      <td>0.000000</td>\n",
       "      <td>0.000000e+00</td>\n",
       "      <td>0.000000e+00</td>\n",
       "      <td>0.000000e+00</td>\n",
       "      <td>2.117632e+06</td>\n",
       "      <td>18.300000</td>\n",
       "      <td>8.896512e+06</td>\n",
       "      <td>3.709415e+09</td>\n",
       "      <td>0.000000</td>\n",
       "    </tr>\n",
       "    <tr>\n",
       "      <th>75%</th>\n",
       "      <td>6.282230e+08</td>\n",
       "      <td>3.048616e+09</td>\n",
       "      <td>1.221140e+09</td>\n",
       "      <td>3.048616e+09</td>\n",
       "      <td>5.456445e+08</td>\n",
       "      <td>8.820214e+08</td>\n",
       "      <td>0.000000e+00</td>\n",
       "      <td>0.000000</td>\n",
       "      <td>0.000000e+00</td>\n",
       "      <td>0.000000e+00</td>\n",
       "      <td>0.000000e+00</td>\n",
       "      <td>2.117632e+06</td>\n",
       "      <td>30.300000</td>\n",
       "      <td>8.962048e+06</td>\n",
       "      <td>3.709415e+09</td>\n",
       "      <td>0.000000</td>\n",
       "    </tr>\n",
       "    <tr>\n",
       "      <th>max</th>\n",
       "      <td>2.037846e+09</td>\n",
       "      <td>3.515314e+09</td>\n",
       "      <td>2.226229e+09</td>\n",
       "      <td>3.515314e+09</td>\n",
       "      <td>9.435546e+08</td>\n",
       "      <td>3.593052e+09</td>\n",
       "      <td>6.459187e+08</td>\n",
       "      <td>98304.000000</td>\n",
       "      <td>7.217152e+06</td>\n",
       "      <td>6.459187e+08</td>\n",
       "      <td>7.340032e+06</td>\n",
       "      <td>2.158592e+06</td>\n",
       "      <td>90.400000</td>\n",
       "      <td>9.072640e+06</td>\n",
       "      <td>3.973603e+09</td>\n",
       "      <td>1.100000</td>\n",
       "    </tr>\n",
       "  </tbody>\n",
       "</table>\n",
       "</div>"
      ],
      "text/plain": [
       "         mem_active  mem_available    mem_cached      mem_free  mem_inactive  \\\n",
       "count  9.531000e+04   9.531000e+04  9.531000e+04  9.531000e+04  9.531000e+04   \n",
       "mean   7.304257e+08   2.643991e+09  1.126026e+09  2.643991e+09  4.683325e+08   \n",
       "std    4.362575e+08   8.222815e+08  5.762290e+08  8.222815e+08  2.604473e+08   \n",
       "min    1.990943e+08   3.805512e+08  3.616645e+08  3.805512e+08  1.708851e+08   \n",
       "25%    5.265009e+08   2.584774e+09  7.167437e+08  2.584774e+09  3.329393e+08   \n",
       "50%    5.646090e+08   3.031523e+09  8.777667e+08  3.031523e+09  3.329556e+08   \n",
       "75%    6.282230e+08   3.048616e+09  1.221140e+09  3.048616e+09  5.456445e+08   \n",
       "max    2.037846e+09   3.515314e+09  2.226229e+09  3.515314e+09  9.435546e+08   \n",
       "\n",
       "           mem_used  memswap_free   memswap_sin  memswap_sout  memswap_total  \\\n",
       "count  9.531000e+04  9.531000e+04  95310.000000  9.531000e+04   9.531000e+04   \n",
       "mean   1.014084e+09  9.789841e+07   1407.621278  8.791848e+04   9.799585e+07   \n",
       "std    8.028522e+08  2.314921e+08  10478.797410  7.899621e+05   2.317212e+08   \n",
       "min    4.581171e+08  0.000000e+00      0.000000  0.000000e+00   0.000000e+00   \n",
       "25%    6.605169e+08  0.000000e+00      0.000000  0.000000e+00   0.000000e+00   \n",
       "50%    6.775767e+08  0.000000e+00      0.000000  0.000000e+00   0.000000e+00   \n",
       "75%    8.820214e+08  0.000000e+00      0.000000  0.000000e+00   0.000000e+00   \n",
       "max    3.593052e+09  6.459187e+08  98304.000000  7.217152e+06   6.459187e+08   \n",
       "\n",
       "       memswap_used   mem_buffers   mem_percent    mem_shared     mem_total  \\\n",
       "count  9.531000e+04  9.531000e+04  95310.000000  9.531000e+04  9.531000e+04   \n",
       "mean   9.744733e+04  1.515775e+06     28.036302  8.841971e+06  3.658076e+09   \n",
       "std    8.038916e+05  9.426470e+05     20.663529  3.821109e+05  4.773769e+08   \n",
       "min    0.000000e+00  0.000000e+00     11.500000  6.938624e+06  1.039180e+09   \n",
       "25%    0.000000e+00  1.679360e+05     17.800000  8.863744e+06  3.709407e+09   \n",
       "50%    0.000000e+00  2.117632e+06     18.300000  8.896512e+06  3.709415e+09   \n",
       "75%    0.000000e+00  2.117632e+06     30.300000  8.962048e+06  3.709415e+09   \n",
       "max    7.340032e+06  2.158592e+06     90.400000  9.072640e+06  3.973603e+09   \n",
       "\n",
       "       memswap_percent  \n",
       "count     95310.000000  \n",
       "mean          0.013342  \n",
       "std           0.120408  \n",
       "min           0.000000  \n",
       "25%           0.000000  \n",
       "50%           0.000000  \n",
       "75%           0.000000  \n",
       "max           1.100000  "
      ]
     },
     "execution_count": 814,
     "metadata": {},
     "output_type": "execute_result"
    }
   ],
   "source": [
    "df[mem].describe()"
   ]
  },
  {
   "cell_type": "code",
   "execution_count": 815,
   "id": "f4229dda",
   "metadata": {},
   "outputs": [
    {
     "data": {
      "text/plain": [
       "(1156, 69)"
      ]
     },
     "execution_count": 815,
     "metadata": {},
     "output_type": "execute_result"
    }
   ],
   "source": [
    "df[df['memswap_percent']>0].shape"
   ]
  },
  {
   "cell_type": "code",
   "execution_count": 816,
   "id": "5b1f8c41",
   "metadata": {},
   "outputs": [
    {
     "data": {
      "text/html": [
       "<div>\n",
       "<style scoped>\n",
       "    .dataframe tbody tr th:only-of-type {\n",
       "        vertical-align: middle;\n",
       "    }\n",
       "\n",
       "    .dataframe tbody tr th {\n",
       "        vertical-align: top;\n",
       "    }\n",
       "\n",
       "    .dataframe thead th {\n",
       "        text-align: right;\n",
       "    }\n",
       "</style>\n",
       "<table border=\"1\" class=\"dataframe\">\n",
       "  <thead>\n",
       "    <tr style=\"text-align: right;\">\n",
       "      <th></th>\n",
       "      <th>cpu_idle</th>\n",
       "      <th>cpu_iowait</th>\n",
       "      <th>cpu_nice</th>\n",
       "      <th>cpu_softirq</th>\n",
       "      <th>cpu_system</th>\n",
       "      <th>cpu_total</th>\n",
       "      <th>cpu_user</th>\n",
       "      <th>diskio_sda1_read_bytes</th>\n",
       "      <th>diskio_sda1_time_since_update</th>\n",
       "      <th>diskio_sda1_write_bytes</th>\n",
       "      <th>...</th>\n",
       "      <th>datetime</th>\n",
       "      <th>cpu_iowait_flag</th>\n",
       "      <th>cpu_nice_flag</th>\n",
       "      <th>cpu_softirq_flag</th>\n",
       "      <th>percpu_0_iowait_flag</th>\n",
       "      <th>percpu_0_nice_flag</th>\n",
       "      <th>percpu_0_softirq_flag</th>\n",
       "      <th>diskio_sda1_write_bytes_flag</th>\n",
       "      <th>diskio_sda1_read_bytes_flag</th>\n",
       "      <th>diskio_sda_read_bytes_flag</th>\n",
       "    </tr>\n",
       "  </thead>\n",
       "  <tbody>\n",
       "    <tr>\n",
       "      <th>0</th>\n",
       "      <td>0.0</td>\n",
       "      <td>0.0</td>\n",
       "      <td>0.0</td>\n",
       "      <td>0.0</td>\n",
       "      <td>2.0</td>\n",
       "      <td>100.0</td>\n",
       "      <td>6.0</td>\n",
       "      <td>0.0</td>\n",
       "      <td>1.000000</td>\n",
       "      <td>0</td>\n",
       "      <td>...</td>\n",
       "      <td>2020-03-20 09:16:03</td>\n",
       "      <td>0</td>\n",
       "      <td>0</td>\n",
       "      <td>0</td>\n",
       "      <td>0</td>\n",
       "      <td>0</td>\n",
       "      <td>1</td>\n",
       "      <td>0</td>\n",
       "      <td>0</td>\n",
       "      <td>0</td>\n",
       "    </tr>\n",
       "    <tr>\n",
       "      <th>1</th>\n",
       "      <td>0.0</td>\n",
       "      <td>0.0</td>\n",
       "      <td>0.0</td>\n",
       "      <td>0.0</td>\n",
       "      <td>2.0</td>\n",
       "      <td>100.0</td>\n",
       "      <td>39.0</td>\n",
       "      <td>0.0</td>\n",
       "      <td>1.022863</td>\n",
       "      <td>0</td>\n",
       "      <td>...</td>\n",
       "      <td>2020-03-20 09:16:05</td>\n",
       "      <td>0</td>\n",
       "      <td>0</td>\n",
       "      <td>0</td>\n",
       "      <td>0</td>\n",
       "      <td>0</td>\n",
       "      <td>0</td>\n",
       "      <td>0</td>\n",
       "      <td>0</td>\n",
       "      <td>0</td>\n",
       "    </tr>\n",
       "    <tr>\n",
       "      <th>2</th>\n",
       "      <td>0.0</td>\n",
       "      <td>0.0</td>\n",
       "      <td>0.0</td>\n",
       "      <td>0.0</td>\n",
       "      <td>2.0</td>\n",
       "      <td>100.0</td>\n",
       "      <td>42.0</td>\n",
       "      <td>0.0</td>\n",
       "      <td>1.059135</td>\n",
       "      <td>0</td>\n",
       "      <td>...</td>\n",
       "      <td>2020-03-20 09:16:06</td>\n",
       "      <td>0</td>\n",
       "      <td>0</td>\n",
       "      <td>0</td>\n",
       "      <td>0</td>\n",
       "      <td>0</td>\n",
       "      <td>0</td>\n",
       "      <td>0</td>\n",
       "      <td>0</td>\n",
       "      <td>1</td>\n",
       "    </tr>\n",
       "    <tr>\n",
       "      <th>3</th>\n",
       "      <td>0.0</td>\n",
       "      <td>0.0</td>\n",
       "      <td>0.0</td>\n",
       "      <td>0.0</td>\n",
       "      <td>2.0</td>\n",
       "      <td>100.0</td>\n",
       "      <td>40.0</td>\n",
       "      <td>0.0</td>\n",
       "      <td>0.992989</td>\n",
       "      <td>0</td>\n",
       "      <td>...</td>\n",
       "      <td>2020-03-20 09:16:07</td>\n",
       "      <td>0</td>\n",
       "      <td>0</td>\n",
       "      <td>0</td>\n",
       "      <td>0</td>\n",
       "      <td>0</td>\n",
       "      <td>0</td>\n",
       "      <td>0</td>\n",
       "      <td>0</td>\n",
       "      <td>1</td>\n",
       "    </tr>\n",
       "    <tr>\n",
       "      <th>4</th>\n",
       "      <td>0.0</td>\n",
       "      <td>0.0</td>\n",
       "      <td>0.0</td>\n",
       "      <td>0.0</td>\n",
       "      <td>1.0</td>\n",
       "      <td>100.0</td>\n",
       "      <td>37.0</td>\n",
       "      <td>0.0</td>\n",
       "      <td>1.007005</td>\n",
       "      <td>0</td>\n",
       "      <td>...</td>\n",
       "      <td>2020-03-20 09:16:08</td>\n",
       "      <td>0</td>\n",
       "      <td>0</td>\n",
       "      <td>0</td>\n",
       "      <td>0</td>\n",
       "      <td>0</td>\n",
       "      <td>0</td>\n",
       "      <td>0</td>\n",
       "      <td>0</td>\n",
       "      <td>0</td>\n",
       "    </tr>\n",
       "    <tr>\n",
       "      <th>...</th>\n",
       "      <td>...</td>\n",
       "      <td>...</td>\n",
       "      <td>...</td>\n",
       "      <td>...</td>\n",
       "      <td>...</td>\n",
       "      <td>...</td>\n",
       "      <td>...</td>\n",
       "      <td>...</td>\n",
       "      <td>...</td>\n",
       "      <td>...</td>\n",
       "      <td>...</td>\n",
       "      <td>...</td>\n",
       "      <td>...</td>\n",
       "      <td>...</td>\n",
       "      <td>...</td>\n",
       "      <td>...</td>\n",
       "      <td>...</td>\n",
       "      <td>...</td>\n",
       "      <td>...</td>\n",
       "      <td>...</td>\n",
       "      <td>...</td>\n",
       "    </tr>\n",
       "    <tr>\n",
       "      <th>14456</th>\n",
       "      <td>0.0</td>\n",
       "      <td>0.0</td>\n",
       "      <td>1.0</td>\n",
       "      <td>0.0</td>\n",
       "      <td>1.0</td>\n",
       "      <td>100.0</td>\n",
       "      <td>32.0</td>\n",
       "      <td>0.0</td>\n",
       "      <td>1.272906</td>\n",
       "      <td>0</td>\n",
       "      <td>...</td>\n",
       "      <td>2020-01-28 15:31:27</td>\n",
       "      <td>0</td>\n",
       "      <td>1</td>\n",
       "      <td>0</td>\n",
       "      <td>0</td>\n",
       "      <td>1</td>\n",
       "      <td>0</td>\n",
       "      <td>0</td>\n",
       "      <td>0</td>\n",
       "      <td>0</td>\n",
       "    </tr>\n",
       "    <tr>\n",
       "      <th>14457</th>\n",
       "      <td>0.0</td>\n",
       "      <td>0.0</td>\n",
       "      <td>0.0</td>\n",
       "      <td>0.0</td>\n",
       "      <td>2.0</td>\n",
       "      <td>100.0</td>\n",
       "      <td>36.0</td>\n",
       "      <td>0.0</td>\n",
       "      <td>1.302468</td>\n",
       "      <td>0</td>\n",
       "      <td>...</td>\n",
       "      <td>2020-01-28 15:31:28</td>\n",
       "      <td>0</td>\n",
       "      <td>0</td>\n",
       "      <td>0</td>\n",
       "      <td>0</td>\n",
       "      <td>0</td>\n",
       "      <td>0</td>\n",
       "      <td>0</td>\n",
       "      <td>0</td>\n",
       "      <td>0</td>\n",
       "    </tr>\n",
       "    <tr>\n",
       "      <th>14458</th>\n",
       "      <td>0.0</td>\n",
       "      <td>0.0</td>\n",
       "      <td>0.0</td>\n",
       "      <td>0.0</td>\n",
       "      <td>2.0</td>\n",
       "      <td>100.0</td>\n",
       "      <td>39.0</td>\n",
       "      <td>0.0</td>\n",
       "      <td>1.267522</td>\n",
       "      <td>0</td>\n",
       "      <td>...</td>\n",
       "      <td>2020-01-28 15:31:29</td>\n",
       "      <td>0</td>\n",
       "      <td>0</td>\n",
       "      <td>0</td>\n",
       "      <td>0</td>\n",
       "      <td>0</td>\n",
       "      <td>0</td>\n",
       "      <td>0</td>\n",
       "      <td>0</td>\n",
       "      <td>0</td>\n",
       "    </tr>\n",
       "    <tr>\n",
       "      <th>14459</th>\n",
       "      <td>0.0</td>\n",
       "      <td>0.0</td>\n",
       "      <td>0.0</td>\n",
       "      <td>0.0</td>\n",
       "      <td>1.0</td>\n",
       "      <td>100.0</td>\n",
       "      <td>34.0</td>\n",
       "      <td>0.0</td>\n",
       "      <td>1.276569</td>\n",
       "      <td>0</td>\n",
       "      <td>...</td>\n",
       "      <td>2020-01-28 15:31:30</td>\n",
       "      <td>0</td>\n",
       "      <td>0</td>\n",
       "      <td>0</td>\n",
       "      <td>0</td>\n",
       "      <td>0</td>\n",
       "      <td>0</td>\n",
       "      <td>0</td>\n",
       "      <td>0</td>\n",
       "      <td>0</td>\n",
       "    </tr>\n",
       "    <tr>\n",
       "      <th>14460</th>\n",
       "      <td>0.0</td>\n",
       "      <td>0.0</td>\n",
       "      <td>0.0</td>\n",
       "      <td>1.0</td>\n",
       "      <td>2.0</td>\n",
       "      <td>100.0</td>\n",
       "      <td>40.0</td>\n",
       "      <td>0.0</td>\n",
       "      <td>1.265630</td>\n",
       "      <td>0</td>\n",
       "      <td>...</td>\n",
       "      <td>2020-01-28 15:31:31</td>\n",
       "      <td>0</td>\n",
       "      <td>0</td>\n",
       "      <td>1</td>\n",
       "      <td>0</td>\n",
       "      <td>0</td>\n",
       "      <td>1</td>\n",
       "      <td>0</td>\n",
       "      <td>0</td>\n",
       "      <td>0</td>\n",
       "    </tr>\n",
       "  </tbody>\n",
       "</table>\n",
       "<p>14460 rows × 69 columns</p>\n",
       "</div>"
      ],
      "text/plain": [
       "       cpu_idle  cpu_iowait  cpu_nice  cpu_softirq  cpu_system  cpu_total  \\\n",
       "0           0.0         0.0       0.0          0.0         2.0      100.0   \n",
       "1           0.0         0.0       0.0          0.0         2.0      100.0   \n",
       "2           0.0         0.0       0.0          0.0         2.0      100.0   \n",
       "3           0.0         0.0       0.0          0.0         2.0      100.0   \n",
       "4           0.0         0.0       0.0          0.0         1.0      100.0   \n",
       "...         ...         ...       ...          ...         ...        ...   \n",
       "14456       0.0         0.0       1.0          0.0         1.0      100.0   \n",
       "14457       0.0         0.0       0.0          0.0         2.0      100.0   \n",
       "14458       0.0         0.0       0.0          0.0         2.0      100.0   \n",
       "14459       0.0         0.0       0.0          0.0         1.0      100.0   \n",
       "14460       0.0         0.0       0.0          1.0         2.0      100.0   \n",
       "\n",
       "       cpu_user  diskio_sda1_read_bytes  diskio_sda1_time_since_update  \\\n",
       "0           6.0                     0.0                       1.000000   \n",
       "1          39.0                     0.0                       1.022863   \n",
       "2          42.0                     0.0                       1.059135   \n",
       "3          40.0                     0.0                       0.992989   \n",
       "4          37.0                     0.0                       1.007005   \n",
       "...         ...                     ...                            ...   \n",
       "14456      32.0                     0.0                       1.272906   \n",
       "14457      36.0                     0.0                       1.302468   \n",
       "14458      39.0                     0.0                       1.267522   \n",
       "14459      34.0                     0.0                       1.276569   \n",
       "14460      40.0                     0.0                       1.265630   \n",
       "\n",
       "       diskio_sda1_write_bytes  ...            datetime  cpu_iowait_flag  \\\n",
       "0                            0  ... 2020-03-20 09:16:03                0   \n",
       "1                            0  ... 2020-03-20 09:16:05                0   \n",
       "2                            0  ... 2020-03-20 09:16:06                0   \n",
       "3                            0  ... 2020-03-20 09:16:07                0   \n",
       "4                            0  ... 2020-03-20 09:16:08                0   \n",
       "...                        ...  ...                 ...              ...   \n",
       "14456                        0  ... 2020-01-28 15:31:27                0   \n",
       "14457                        0  ... 2020-01-28 15:31:28                0   \n",
       "14458                        0  ... 2020-01-28 15:31:29                0   \n",
       "14459                        0  ... 2020-01-28 15:31:30                0   \n",
       "14460                        0  ... 2020-01-28 15:31:31                0   \n",
       "\n",
       "       cpu_nice_flag cpu_softirq_flag  percpu_0_iowait_flag  \\\n",
       "0                  0                0                     0   \n",
       "1                  0                0                     0   \n",
       "2                  0                0                     0   \n",
       "3                  0                0                     0   \n",
       "4                  0                0                     0   \n",
       "...              ...              ...                   ...   \n",
       "14456              1                0                     0   \n",
       "14457              0                0                     0   \n",
       "14458              0                0                     0   \n",
       "14459              0                0                     0   \n",
       "14460              0                1                     0   \n",
       "\n",
       "       percpu_0_nice_flag  percpu_0_softirq_flag  \\\n",
       "0                       0                      1   \n",
       "1                       0                      0   \n",
       "2                       0                      0   \n",
       "3                       0                      0   \n",
       "4                       0                      0   \n",
       "...                   ...                    ...   \n",
       "14456                   1                      0   \n",
       "14457                   0                      0   \n",
       "14458                   0                      0   \n",
       "14459                   0                      0   \n",
       "14460                   0                      1   \n",
       "\n",
       "       diskio_sda1_write_bytes_flag  diskio_sda1_read_bytes_flag  \\\n",
       "0                                 0                            0   \n",
       "1                                 0                            0   \n",
       "2                                 0                            0   \n",
       "3                                 0                            0   \n",
       "4                                 0                            0   \n",
       "...                             ...                          ...   \n",
       "14456                             0                            0   \n",
       "14457                             0                            0   \n",
       "14458                             0                            0   \n",
       "14459                             0                            0   \n",
       "14460                             0                            0   \n",
       "\n",
       "       diskio_sda_read_bytes_flag  \n",
       "0                               0  \n",
       "1                               0  \n",
       "2                               1  \n",
       "3                               1  \n",
       "4                               0  \n",
       "...                           ...  \n",
       "14456                           0  \n",
       "14457                           0  \n",
       "14458                           0  \n",
       "14459                           0  \n",
       "14460                           0  \n",
       "\n",
       "[14460 rows x 69 columns]"
      ]
     },
     "execution_count": 816,
     "metadata": {},
     "output_type": "execute_result"
    }
   ],
   "source": [
    "df[df['memswap_total']>0]"
   ]
  },
  {
   "cell_type": "code",
   "execution_count": 817,
   "id": "d6c008a2",
   "metadata": {},
   "outputs": [],
   "source": [
    "memoryflags = ['memswap_free', 'memswap_sin', 'memswap_sout', 'memswap_total', 'memswap_used', 'memswap_percent']"
   ]
  },
  {
   "cell_type": "markdown",
   "id": "7cf673d6",
   "metadata": {},
   "source": [
    "#### Problem Variables\n",
    "- memswap_free\n",
    "- memswap_sin\n",
    "- memswap_sout\n",
    "- memswap_total\n",
    "- memswap_used\n",
    "- memswap_percent"
   ]
  },
  {
   "cell_type": "code",
   "execution_count": 818,
   "id": "b6e0be2a",
   "metadata": {},
   "outputs": [],
   "source": [
    "for var in memoryflags:\n",
    "    df[var+'_flag'] = df[var].apply(flaglist)"
   ]
  },
  {
   "cell_type": "markdown",
   "id": "d7193792",
   "metadata": {},
   "source": [
    "### Network Variables"
   ]
  },
  {
   "cell_type": "code",
   "execution_count": 819,
   "id": "de2d6269",
   "metadata": {},
   "outputs": [
    {
     "data": {
      "text/html": [
       "<div>\n",
       "<style scoped>\n",
       "    .dataframe tbody tr th:only-of-type {\n",
       "        vertical-align: middle;\n",
       "    }\n",
       "\n",
       "    .dataframe tbody tr th {\n",
       "        vertical-align: top;\n",
       "    }\n",
       "\n",
       "    .dataframe thead th {\n",
       "        text-align: right;\n",
       "    }\n",
       "</style>\n",
       "<table border=\"1\" class=\"dataframe\">\n",
       "  <thead>\n",
       "    <tr style=\"text-align: right;\">\n",
       "      <th></th>\n",
       "      <th>network_lo_cumulative_cx</th>\n",
       "      <th>network_lo_cumulative_rx</th>\n",
       "      <th>network_lo_cumulative_tx</th>\n",
       "      <th>network_lo_cx</th>\n",
       "      <th>network_lo_rx</th>\n",
       "      <th>network_lo_time_since_update</th>\n",
       "      <th>network_lo_tx</th>\n",
       "    </tr>\n",
       "  </thead>\n",
       "  <tbody>\n",
       "    <tr>\n",
       "      <th>count</th>\n",
       "      <td>95310.000000</td>\n",
       "      <td>95310.000000</td>\n",
       "      <td>95310.000000</td>\n",
       "      <td>95310.00000</td>\n",
       "      <td>95310.000000</td>\n",
       "      <td>95310.000000</td>\n",
       "      <td>95310.000000</td>\n",
       "    </tr>\n",
       "    <tr>\n",
       "      <th>mean</th>\n",
       "      <td>31780.512055</td>\n",
       "      <td>15890.256028</td>\n",
       "      <td>15890.256028</td>\n",
       "      <td>2.28039</td>\n",
       "      <td>1.140195</td>\n",
       "      <td>1.162641</td>\n",
       "      <td>1.140195</td>\n",
       "    </tr>\n",
       "    <tr>\n",
       "      <th>std</th>\n",
       "      <td>42494.928252</td>\n",
       "      <td>21247.464126</td>\n",
       "      <td>21247.464126</td>\n",
       "      <td>25.56800</td>\n",
       "      <td>12.784000</td>\n",
       "      <td>0.121031</td>\n",
       "      <td>12.784000</td>\n",
       "    </tr>\n",
       "    <tr>\n",
       "      <th>min</th>\n",
       "      <td>400.000000</td>\n",
       "      <td>200.000000</td>\n",
       "      <td>200.000000</td>\n",
       "      <td>0.00000</td>\n",
       "      <td>0.000000</td>\n",
       "      <td>0.695460</td>\n",
       "      <td>0.000000</td>\n",
       "    </tr>\n",
       "    <tr>\n",
       "      <th>25%</th>\n",
       "      <td>12952.000000</td>\n",
       "      <td>6476.000000</td>\n",
       "      <td>6476.000000</td>\n",
       "      <td>0.00000</td>\n",
       "      <td>0.000000</td>\n",
       "      <td>1.087103</td>\n",
       "      <td>0.000000</td>\n",
       "    </tr>\n",
       "    <tr>\n",
       "      <th>50%</th>\n",
       "      <td>18464.000000</td>\n",
       "      <td>9232.000000</td>\n",
       "      <td>9232.000000</td>\n",
       "      <td>0.00000</td>\n",
       "      <td>0.000000</td>\n",
       "      <td>1.092982</td>\n",
       "      <td>0.000000</td>\n",
       "    </tr>\n",
       "    <tr>\n",
       "      <th>75%</th>\n",
       "      <td>19940.000000</td>\n",
       "      <td>9970.000000</td>\n",
       "      <td>9970.000000</td>\n",
       "      <td>0.00000</td>\n",
       "      <td>0.000000</td>\n",
       "      <td>1.209952</td>\n",
       "      <td>0.000000</td>\n",
       "    </tr>\n",
       "    <tr>\n",
       "      <th>max</th>\n",
       "      <td>194680.000000</td>\n",
       "      <td>97340.000000</td>\n",
       "      <td>97340.000000</td>\n",
       "      <td>656.00000</td>\n",
       "      <td>328.000000</td>\n",
       "      <td>2.114878</td>\n",
       "      <td>328.000000</td>\n",
       "    </tr>\n",
       "  </tbody>\n",
       "</table>\n",
       "</div>"
      ],
      "text/plain": [
       "       network_lo_cumulative_cx  network_lo_cumulative_rx  \\\n",
       "count              95310.000000              95310.000000   \n",
       "mean               31780.512055              15890.256028   \n",
       "std                42494.928252              21247.464126   \n",
       "min                  400.000000                200.000000   \n",
       "25%                12952.000000               6476.000000   \n",
       "50%                18464.000000               9232.000000   \n",
       "75%                19940.000000               9970.000000   \n",
       "max               194680.000000              97340.000000   \n",
       "\n",
       "       network_lo_cumulative_tx  network_lo_cx  network_lo_rx  \\\n",
       "count              95310.000000    95310.00000   95310.000000   \n",
       "mean               15890.256028        2.28039       1.140195   \n",
       "std                21247.464126       25.56800      12.784000   \n",
       "min                  200.000000        0.00000       0.000000   \n",
       "25%                 6476.000000        0.00000       0.000000   \n",
       "50%                 9232.000000        0.00000       0.000000   \n",
       "75%                 9970.000000        0.00000       0.000000   \n",
       "max                97340.000000      656.00000     328.000000   \n",
       "\n",
       "       network_lo_time_since_update  network_lo_tx  \n",
       "count                  95310.000000   95310.000000  \n",
       "mean                       1.162641       1.140195  \n",
       "std                        0.121031      12.784000  \n",
       "min                        0.695460       0.000000  \n",
       "25%                        1.087103       0.000000  \n",
       "50%                        1.092982       0.000000  \n",
       "75%                        1.209952       0.000000  \n",
       "max                        2.114878     328.000000  "
      ]
     },
     "execution_count": 819,
     "metadata": {},
     "output_type": "execute_result"
    }
   ],
   "source": [
    "df[network].describe()"
   ]
  },
  {
   "cell_type": "code",
   "execution_count": 820,
   "id": "b62f0ce3",
   "metadata": {},
   "outputs": [
    {
     "data": {
      "text/plain": [
       "(9525, 75)"
      ]
     },
     "execution_count": 820,
     "metadata": {},
     "output_type": "execute_result"
    }
   ],
   "source": [
    "df[df['network_lo_cumulative_cx']>100000].shape"
   ]
  },
  {
   "cell_type": "code",
   "execution_count": 821,
   "id": "c3888ad0",
   "metadata": {},
   "outputs": [
    {
     "data": {
      "text/plain": [
       "(5457, 75)"
      ]
     },
     "execution_count": 821,
     "metadata": {},
     "output_type": "execute_result"
    }
   ],
   "source": [
    "df[df['network_lo_cumulative_rx']>70000].shape"
   ]
  },
  {
   "cell_type": "code",
   "execution_count": 822,
   "id": "2acb306c",
   "metadata": {},
   "outputs": [
    {
     "data": {
      "text/plain": [
       "(754, 75)"
      ]
     },
     "execution_count": 822,
     "metadata": {},
     "output_type": "execute_result"
    }
   ],
   "source": [
    "df[df['network_lo_tx']>0].shape"
   ]
  },
  {
   "cell_type": "code",
   "execution_count": 823,
   "id": "294f7613",
   "metadata": {},
   "outputs": [],
   "source": [
    "def flaglist2(x):\n",
    "    if x>10**5:\n",
    "        return 1\n",
    "    else:\n",
    "        return 0"
   ]
  },
  {
   "cell_type": "code",
   "execution_count": 824,
   "id": "9c9cb32d",
   "metadata": {},
   "outputs": [],
   "source": [
    "networkflag1 = ['network_lo_cumulative_cx']\n",
    "networkflag2 = ['network_lo_cumulative_rx', 'network_lo_cumulative_tx']\n",
    "networkflag3 = ['network_lo_cx', 'network_lo_rx', 'network_lo_tx']"
   ]
  },
  {
   "cell_type": "code",
   "execution_count": 825,
   "id": "bbfd80e5",
   "metadata": {},
   "outputs": [],
   "source": [
    "for var in network:\n",
    "    if var in networkflag1:\n",
    "        df[var+'_flag'] = df[var].apply(flaglist2)\n",
    "    elif var in networkflag2:\n",
    "        df[var+'_flag'] = df[var].apply(flaglist1)\n",
    "    else:\n",
    "        df[var+'_flag'] = df[var].apply(flaglist)"
   ]
  },
  {
   "cell_type": "markdown",
   "id": "d4c2d3ec",
   "metadata": {},
   "source": [
    "#### Problem Variables\n",
    "- network_lo_cumulative_cx\n",
    "- network_lo_cumulative_rx\n",
    "- network_lo_cumulative_tx\n",
    "- network_lo_cx\n",
    "- network_lo_rx\n",
    "- network_lo_tx"
   ]
  },
  {
   "cell_type": "markdown",
   "id": "c8959b33",
   "metadata": {},
   "source": [
    "### FS variables"
   ]
  },
  {
   "cell_type": "code",
   "execution_count": 826,
   "id": "cc4b10cd",
   "metadata": {},
   "outputs": [
    {
     "data": {
      "text/html": [
       "<div>\n",
       "<style scoped>\n",
       "    .dataframe tbody tr th:only-of-type {\n",
       "        vertical-align: middle;\n",
       "    }\n",
       "\n",
       "    .dataframe tbody tr th {\n",
       "        vertical-align: top;\n",
       "    }\n",
       "\n",
       "    .dataframe thead th {\n",
       "        text-align: right;\n",
       "    }\n",
       "</style>\n",
       "<table border=\"1\" class=\"dataframe\">\n",
       "  <thead>\n",
       "    <tr style=\"text-align: right;\">\n",
       "      <th></th>\n",
       "      <th>fs_/_free</th>\n",
       "      <th>fs_/_used</th>\n",
       "      <th>fs_/_percent</th>\n",
       "      <th>fs_/_size</th>\n",
       "    </tr>\n",
       "  </thead>\n",
       "  <tbody>\n",
       "    <tr>\n",
       "      <th>count</th>\n",
       "      <td>9.531000e+04</td>\n",
       "      <td>9.531000e+04</td>\n",
       "      <td>95310.000000</td>\n",
       "      <td>9.531000e+04</td>\n",
       "    </tr>\n",
       "    <tr>\n",
       "      <th>mean</th>\n",
       "      <td>6.458996e+09</td>\n",
       "      <td>3.353898e+09</td>\n",
       "      <td>37.059822</td>\n",
       "      <td>9.812894e+09</td>\n",
       "    </tr>\n",
       "    <tr>\n",
       "      <th>std</th>\n",
       "      <td>2.327729e+09</td>\n",
       "      <td>1.019461e+09</td>\n",
       "      <td>18.979095</td>\n",
       "      <td>2.158858e+09</td>\n",
       "    </tr>\n",
       "    <tr>\n",
       "      <th>min</th>\n",
       "      <td>1.453998e+08</td>\n",
       "      <td>1.622942e+09</td>\n",
       "      <td>23.600000</td>\n",
       "      <td>4.708106e+09</td>\n",
       "    </tr>\n",
       "    <tr>\n",
       "      <th>25%</th>\n",
       "      <td>5.671690e+09</td>\n",
       "      <td>2.735157e+09</td>\n",
       "      <td>25.600000</td>\n",
       "      <td>1.072588e+10</td>\n",
       "    </tr>\n",
       "    <tr>\n",
       "      <th>50%</th>\n",
       "      <td>7.429366e+09</td>\n",
       "      <td>2.755858e+09</td>\n",
       "      <td>30.700000</td>\n",
       "      <td>1.072588e+10</td>\n",
       "    </tr>\n",
       "    <tr>\n",
       "      <th>75%</th>\n",
       "      <td>7.983272e+09</td>\n",
       "      <td>4.551557e+09</td>\n",
       "      <td>47.100000</td>\n",
       "      <td>1.072588e+10</td>\n",
       "    </tr>\n",
       "    <tr>\n",
       "      <th>max</th>\n",
       "      <td>8.194929e+09</td>\n",
       "      <td>5.067731e+09</td>\n",
       "      <td>96.900000</td>\n",
       "      <td>1.072588e+10</td>\n",
       "    </tr>\n",
       "  </tbody>\n",
       "</table>\n",
       "</div>"
      ],
      "text/plain": [
       "          fs_/_free     fs_/_used  fs_/_percent     fs_/_size\n",
       "count  9.531000e+04  9.531000e+04  95310.000000  9.531000e+04\n",
       "mean   6.458996e+09  3.353898e+09     37.059822  9.812894e+09\n",
       "std    2.327729e+09  1.019461e+09     18.979095  2.158858e+09\n",
       "min    1.453998e+08  1.622942e+09     23.600000  4.708106e+09\n",
       "25%    5.671690e+09  2.735157e+09     25.600000  1.072588e+10\n",
       "50%    7.429366e+09  2.755858e+09     30.700000  1.072588e+10\n",
       "75%    7.983272e+09  4.551557e+09     47.100000  1.072588e+10\n",
       "max    8.194929e+09  5.067731e+09     96.900000  1.072588e+10"
      ]
     },
     "execution_count": 826,
     "metadata": {},
     "output_type": "execute_result"
    }
   ],
   "source": [
    "df[fs].describe() "
   ]
  },
  {
   "cell_type": "code",
   "execution_count": 827,
   "id": "2adce6e4",
   "metadata": {},
   "outputs": [
    {
     "data": {
      "text/plain": [
       "(7182, 82)"
      ]
     },
     "execution_count": 827,
     "metadata": {},
     "output_type": "execute_result"
    }
   ],
   "source": [
    "df[df['fs_/_percent']>50].shape"
   ]
  },
  {
   "cell_type": "code",
   "execution_count": 828,
   "id": "968e69e6",
   "metadata": {},
   "outputs": [],
   "source": [
    "df['fs_/_percent_flag'] = df['fs_/_percent'].apply(lambda x: 1 if x>50 else 0)"
   ]
  },
  {
   "cell_type": "markdown",
   "id": "3db88f02",
   "metadata": {},
   "source": [
    "#### Problem Variable\n",
    "- fs_/_percent"
   ]
  },
  {
   "cell_type": "markdown",
   "id": "9154b6e4",
   "metadata": {},
   "source": [
    "### Processcount Variables"
   ]
  },
  {
   "cell_type": "code",
   "execution_count": 829,
   "id": "afb6c615",
   "metadata": {},
   "outputs": [
    {
     "data": {
      "text/html": [
       "<div>\n",
       "<style scoped>\n",
       "    .dataframe tbody tr th:only-of-type {\n",
       "        vertical-align: middle;\n",
       "    }\n",
       "\n",
       "    .dataframe tbody tr th {\n",
       "        vertical-align: top;\n",
       "    }\n",
       "\n",
       "    .dataframe thead th {\n",
       "        text-align: right;\n",
       "    }\n",
       "</style>\n",
       "<table border=\"1\" class=\"dataframe\">\n",
       "  <thead>\n",
       "    <tr style=\"text-align: right;\">\n",
       "      <th></th>\n",
       "      <th>processcount_running</th>\n",
       "      <th>processcount_sleeping</th>\n",
       "      <th>processcount_thread</th>\n",
       "      <th>processcount_total</th>\n",
       "    </tr>\n",
       "  </thead>\n",
       "  <tbody>\n",
       "    <tr>\n",
       "      <th>count</th>\n",
       "      <td>95310.000000</td>\n",
       "      <td>95310.000000</td>\n",
       "      <td>95310.000000</td>\n",
       "      <td>95310.000000</td>\n",
       "    </tr>\n",
       "    <tr>\n",
       "      <th>mean</th>\n",
       "      <td>2.063456</td>\n",
       "      <td>99.633218</td>\n",
       "      <td>147.371504</td>\n",
       "      <td>101.695226</td>\n",
       "    </tr>\n",
       "    <tr>\n",
       "      <th>std</th>\n",
       "      <td>0.445196</td>\n",
       "      <td>7.598300</td>\n",
       "      <td>17.898651</td>\n",
       "      <td>7.615595</td>\n",
       "    </tr>\n",
       "    <tr>\n",
       "      <th>min</th>\n",
       "      <td>1.000000</td>\n",
       "      <td>73.000000</td>\n",
       "      <td>125.000000</td>\n",
       "      <td>1.000000</td>\n",
       "    </tr>\n",
       "    <tr>\n",
       "      <th>25%</th>\n",
       "      <td>2.000000</td>\n",
       "      <td>94.000000</td>\n",
       "      <td>138.000000</td>\n",
       "      <td>96.000000</td>\n",
       "    </tr>\n",
       "    <tr>\n",
       "      <th>50%</th>\n",
       "      <td>2.000000</td>\n",
       "      <td>98.000000</td>\n",
       "      <td>142.000000</td>\n",
       "      <td>100.000000</td>\n",
       "    </tr>\n",
       "    <tr>\n",
       "      <th>75%</th>\n",
       "      <td>2.000000</td>\n",
       "      <td>106.000000</td>\n",
       "      <td>153.000000</td>\n",
       "      <td>109.000000</td>\n",
       "    </tr>\n",
       "    <tr>\n",
       "      <th>max</th>\n",
       "      <td>95.000000</td>\n",
       "      <td>122.000000</td>\n",
       "      <td>211.000000</td>\n",
       "      <td>124.000000</td>\n",
       "    </tr>\n",
       "  </tbody>\n",
       "</table>\n",
       "</div>"
      ],
      "text/plain": [
       "       processcount_running  processcount_sleeping  processcount_thread  \\\n",
       "count          95310.000000           95310.000000         95310.000000   \n",
       "mean               2.063456              99.633218           147.371504   \n",
       "std                0.445196               7.598300            17.898651   \n",
       "min                1.000000              73.000000           125.000000   \n",
       "25%                2.000000              94.000000           138.000000   \n",
       "50%                2.000000              98.000000           142.000000   \n",
       "75%                2.000000             106.000000           153.000000   \n",
       "max               95.000000             122.000000           211.000000   \n",
       "\n",
       "       processcount_total  \n",
       "count        95310.000000  \n",
       "mean           101.695226  \n",
       "std              7.615595  \n",
       "min              1.000000  \n",
       "25%             96.000000  \n",
       "50%            100.000000  \n",
       "75%            109.000000  \n",
       "max            124.000000  "
      ]
     },
     "execution_count": 829,
     "metadata": {},
     "output_type": "execute_result"
    }
   ],
   "source": [
    "df[processcount].describe()"
   ]
  },
  {
   "cell_type": "code",
   "execution_count": 830,
   "id": "aab6df38",
   "metadata": {},
   "outputs": [
    {
     "data": {
      "text/plain": [
       "(7463, 83)"
      ]
     },
     "execution_count": 830,
     "metadata": {},
     "output_type": "execute_result"
    }
   ],
   "source": [
    "df[df['processcount_running']>2].shape"
   ]
  },
  {
   "cell_type": "code",
   "execution_count": 831,
   "id": "a7ce0c3d",
   "metadata": {},
   "outputs": [],
   "source": [
    "df['processcount_running_flag'] = df['processcount_running'].apply(lambda x: 1 if x>2 else 0)"
   ]
  },
  {
   "cell_type": "markdown",
   "id": "a1922072",
   "metadata": {},
   "source": [
    "#### Problem Variable\n",
    "- processcount_running"
   ]
  },
  {
   "cell_type": "markdown",
   "id": "d5f46f90",
   "metadata": {},
   "source": [
    "## Now that we have flagged every statistically unreliable behaviour"
   ]
  },
  {
   "cell_type": "code",
   "execution_count": 832,
   "id": "f096a048",
   "metadata": {},
   "outputs": [
    {
     "data": {
      "text/plain": [
       "'flag'"
      ]
     },
     "execution_count": 832,
     "metadata": {},
     "output_type": "execute_result"
    }
   ],
   "source": [
    "s = 'processcount_running_flag'\n",
    "s[-4:]"
   ]
  },
  {
   "cell_type": "code",
   "execution_count": 833,
   "id": "d66bb996",
   "metadata": {},
   "outputs": [],
   "source": [
    "flagvars = []\n",
    "for var in df.columns:\n",
    "    if var[-4:]=='flag':\n",
    "        flagvars.append(var)"
   ]
  },
  {
   "cell_type": "code",
   "execution_count": 834,
   "id": "95205c3a",
   "metadata": {},
   "outputs": [
    {
     "data": {
      "text/plain": [
       "['flag',\n",
       " 'cpu_iowait_flag',\n",
       " 'cpu_nice_flag',\n",
       " 'cpu_softirq_flag',\n",
       " 'percpu_0_iowait_flag',\n",
       " 'percpu_0_nice_flag',\n",
       " 'percpu_0_softirq_flag',\n",
       " 'diskio_sda1_write_bytes_flag',\n",
       " 'diskio_sda1_read_bytes_flag',\n",
       " 'diskio_sda_read_bytes_flag',\n",
       " 'memswap_free_flag',\n",
       " 'memswap_sin_flag',\n",
       " 'memswap_sout_flag',\n",
       " 'memswap_total_flag',\n",
       " 'memswap_used_flag',\n",
       " 'memswap_percent_flag',\n",
       " 'network_lo_cumulative_cx_flag',\n",
       " 'network_lo_cumulative_rx_flag',\n",
       " 'network_lo_cumulative_tx_flag',\n",
       " 'network_lo_cx_flag',\n",
       " 'network_lo_rx_flag',\n",
       " 'network_lo_time_since_update_flag',\n",
       " 'network_lo_tx_flag',\n",
       " 'fs_/_percent_flag',\n",
       " 'processcount_running_flag']"
      ]
     },
     "execution_count": 834,
     "metadata": {},
     "output_type": "execute_result"
    }
   ],
   "source": [
    "flagvars"
   ]
  },
  {
   "cell_type": "code",
   "execution_count": 835,
   "id": "45681f61",
   "metadata": {},
   "outputs": [
    {
     "name": "stdout",
     "output_type": "stream",
     "text": [
      "flag 0    80850\n",
      "1    14460\n",
      "Name: flag, dtype: int64\n",
      "cpu_iowait_flag 0    94966\n",
      "1      344\n",
      "Name: cpu_iowait_flag, dtype: int64\n",
      "cpu_nice_flag 0    95251\n",
      "1       59\n",
      "Name: cpu_nice_flag, dtype: int64\n",
      "cpu_softirq_flag 0    89000\n",
      "1     6310\n",
      "Name: cpu_softirq_flag, dtype: int64\n",
      "percpu_0_iowait_flag 0    94963\n",
      "1      347\n",
      "Name: percpu_0_iowait_flag, dtype: int64\n",
      "percpu_0_nice_flag 0    95251\n",
      "1       59\n",
      "Name: percpu_0_nice_flag, dtype: int64\n",
      "percpu_0_softirq_flag 0    90190\n",
      "1     5120\n",
      "Name: percpu_0_softirq_flag, dtype: int64\n",
      "diskio_sda1_write_bytes_flag 0    78999\n",
      "1    16311\n",
      "Name: diskio_sda1_write_bytes_flag, dtype: int64\n",
      "diskio_sda1_read_bytes_flag 0    95309\n",
      "1        1\n",
      "Name: diskio_sda1_read_bytes_flag, dtype: int64\n",
      "diskio_sda_read_bytes_flag 0    95180\n",
      "1      130\n",
      "Name: diskio_sda_read_bytes_flag, dtype: int64\n",
      "memswap_free_flag 0    80850\n",
      "1    14460\n",
      "Name: memswap_free_flag, dtype: int64\n",
      "memswap_sin_flag 0    91185\n",
      "1     4125\n",
      "Name: memswap_sin_flag, dtype: int64\n",
      "memswap_sout_flag 0    91185\n",
      "1     4125\n",
      "Name: memswap_sout_flag, dtype: int64\n",
      "memswap_total_flag 0    80850\n",
      "1    14460\n",
      "Name: memswap_total_flag, dtype: int64\n",
      "memswap_used_flag 0    91185\n",
      "1     4125\n",
      "Name: memswap_used_flag, dtype: int64\n",
      "memswap_percent_flag 0    94154\n",
      "1     1156\n",
      "Name: memswap_percent_flag, dtype: int64\n",
      "network_lo_cumulative_cx_flag 0    85785\n",
      "1     9525\n",
      "Name: network_lo_cumulative_cx_flag, dtype: int64\n",
      "network_lo_cumulative_rx_flag 0    89853\n",
      "1     5457\n",
      "Name: network_lo_cumulative_rx_flag, dtype: int64\n",
      "network_lo_cumulative_tx_flag 0    89853\n",
      "1     5457\n",
      "Name: network_lo_cumulative_tx_flag, dtype: int64\n",
      "network_lo_cx_flag 0    94556\n",
      "1      754\n",
      "Name: network_lo_cx_flag, dtype: int64\n",
      "network_lo_rx_flag 0    94556\n",
      "1      754\n",
      "Name: network_lo_rx_flag, dtype: int64\n",
      "network_lo_time_since_update_flag 1    95310\n",
      "Name: network_lo_time_since_update_flag, dtype: int64\n",
      "network_lo_tx_flag 0    94556\n",
      "1      754\n",
      "Name: network_lo_tx_flag, dtype: int64\n",
      "fs_/_percent_flag 0    88128\n",
      "1     7182\n",
      "Name: fs_/_percent_flag, dtype: int64\n",
      "processcount_running_flag 0    87847\n",
      "1     7463\n",
      "Name: processcount_running_flag, dtype: int64\n"
     ]
    }
   ],
   "source": [
    "for var in flagvars:\n",
    "    print(var, df[var].value_counts())"
   ]
  },
  {
   "cell_type": "code",
   "execution_count": 836,
   "id": "a9e1c3cc",
   "metadata": {},
   "outputs": [
    {
     "name": "stderr",
     "output_type": "stream",
     "text": [
      "/var/folders/3w/9sxng9vs07x5y5pwg23csg4r0000gn/T/ipykernel_35103/4242909027.py:1: UserWarning: Pandas doesn't allow columns to be created via a new attribute name - see https://pandas.pydata.org/pandas-docs/stable/indexing.html#attribute-access\n",
      "  df[flagvars].Totalflags = df[flagvars].sum(axis = 1, numeric_only = True)\n"
     ]
    }
   ],
   "source": [
    "df[flagvars].Totalflags = df[flagvars].sum(axis = 1, numeric_only = True)"
   ]
  },
  {
   "cell_type": "code",
   "execution_count": 837,
   "id": "a65d50cc",
   "metadata": {},
   "outputs": [],
   "source": [
    "df['totalflags'] = 0 # let's count the total flags\n",
    "for var in flagvars:\n",
    "    df['totalflags'] = df['totalflags'] +df[var]"
   ]
  },
  {
   "cell_type": "code",
   "execution_count": 838,
   "id": "1968090f",
   "metadata": {},
   "outputs": [
    {
     "data": {
      "text/plain": [
       "count    95310.000000\n",
       "mean         2.289875\n",
       "std          2.061385\n",
       "min          1.000000\n",
       "25%          1.000000\n",
       "50%          1.000000\n",
       "75%          2.000000\n",
       "max         13.000000\n",
       "Name: totalflags, dtype: float64"
      ]
     },
     "execution_count": 838,
     "metadata": {},
     "output_type": "execute_result"
    }
   ],
   "source": [
    "df['totalflags'].describe()"
   ]
  },
  {
   "cell_type": "code",
   "execution_count": 839,
   "id": "9dee036e",
   "metadata": {},
   "outputs": [
    {
     "data": {
      "text/plain": [
       "(16832, 85)"
      ]
     },
     "execution_count": 839,
     "metadata": {},
     "output_type": "execute_result"
    }
   ],
   "source": [
    "df[df['totalflags']>4].shape # more number of flag means higher risk of cryptojaacking"
   ]
  },
  {
   "cell_type": "code",
   "execution_count": 840,
   "id": "9d10bebe",
   "metadata": {},
   "outputs": [],
   "source": [
    "df['an_flag'] = df['totalflags'].apply(lambda x: 1 if x>4 else 0) # these records are reaally at threat\n",
    "\n",
    "# according to my analysis"
   ]
  },
  {
   "cell_type": "code",
   "execution_count": 845,
   "id": "5ef828a7",
   "metadata": {},
   "outputs": [],
   "source": [
    "from sklearn.metrics import accuracy_score, classification_report\n",
    "\n",
    "# let's see how many threats have been correctly classified"
   ]
  },
  {
   "cell_type": "code",
   "execution_count": 847,
   "id": "4420f864",
   "metadata": {},
   "outputs": [
    {
     "name": "stdout",
     "output_type": "stream",
     "text": [
      "              precision    recall  f1-score   support\n",
      "\n",
      "           0       1.00      0.97      0.98     80850\n",
      "           1       0.86      1.00      0.92     14460\n",
      "\n",
      "    accuracy                           0.97     95310\n",
      "   macro avg       0.93      0.98      0.95     95310\n",
      "weighted avg       0.98      0.97      0.97     95310\n",
      "\n"
     ]
    }
   ],
   "source": [
    "print(classification_report(df.flag, df.an_flag)) # wow\n",
    "\n",
    "# the thieves have been caught"
   ]
  },
  {
   "cell_type": "code",
   "execution_count": 848,
   "id": "6adda30a",
   "metadata": {},
   "outputs": [
    {
     "data": {
      "text/plain": [
       "(95310, 86)"
      ]
     },
     "execution_count": 848,
     "metadata": {},
     "output_type": "execute_result"
    }
   ],
   "source": [
    "df.shape"
   ]
  },
  {
   "cell_type": "code",
   "execution_count": 849,
   "id": "8ead9295",
   "metadata": {},
   "outputs": [],
   "source": [
    "df.to_csv('analysed-final_data.csv')"
   ]
  }
 ],
 "metadata": {
  "kernelspec": {
   "display_name": "Python 3 (ipykernel)",
   "language": "python",
   "name": "python3"
  },
  "language_info": {
   "codemirror_mode": {
    "name": "ipython",
    "version": 3
   },
   "file_extension": ".py",
   "mimetype": "text/x-python",
   "name": "python",
   "nbconvert_exporter": "python",
   "pygments_lexer": "ipython3",
   "version": "3.9.12"
  }
 },
 "nbformat": 4,
 "nbformat_minor": 5
}
