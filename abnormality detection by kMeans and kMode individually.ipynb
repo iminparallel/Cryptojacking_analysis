{
 "cells": [
  {
   "cell_type": "code",
   "execution_count": 170,
   "id": "76a434df",
   "metadata": {},
   "outputs": [],
   "source": [
    "import pandas as pd"
   ]
  },
  {
   "cell_type": "code",
   "execution_count": 171,
   "id": "86643497",
   "metadata": {},
   "outputs": [],
   "source": [
    "df = pd.read_csv('analysed-final_data.csv')"
   ]
  },
  {
   "cell_type": "code",
   "execution_count": 172,
   "id": "6864d4df",
   "metadata": {},
   "outputs": [
    {
     "data": {
      "text/html": [
       "<div>\n",
       "<style scoped>\n",
       "    .dataframe tbody tr th:only-of-type {\n",
       "        vertical-align: middle;\n",
       "    }\n",
       "\n",
       "    .dataframe tbody tr th {\n",
       "        vertical-align: top;\n",
       "    }\n",
       "\n",
       "    .dataframe thead th {\n",
       "        text-align: right;\n",
       "    }\n",
       "</style>\n",
       "<table border=\"1\" class=\"dataframe\">\n",
       "  <thead>\n",
       "    <tr style=\"text-align: right;\">\n",
       "      <th></th>\n",
       "      <th>Unnamed: 0</th>\n",
       "      <th>cpu_idle</th>\n",
       "      <th>cpu_iowait</th>\n",
       "      <th>cpu_nice</th>\n",
       "      <th>cpu_softirq</th>\n",
       "      <th>cpu_system</th>\n",
       "      <th>cpu_total</th>\n",
       "      <th>cpu_user</th>\n",
       "      <th>diskio_sda1_read_bytes</th>\n",
       "      <th>diskio_sda1_time_since_update</th>\n",
       "      <th>...</th>\n",
       "      <th>network_lo_cumulative_rx_flag</th>\n",
       "      <th>network_lo_cumulative_tx_flag</th>\n",
       "      <th>network_lo_cx_flag</th>\n",
       "      <th>network_lo_rx_flag</th>\n",
       "      <th>network_lo_time_since_update_flag</th>\n",
       "      <th>network_lo_tx_flag</th>\n",
       "      <th>fs_/_percent_flag</th>\n",
       "      <th>processcount_running_flag</th>\n",
       "      <th>totalflags</th>\n",
       "      <th>an_flag</th>\n",
       "    </tr>\n",
       "  </thead>\n",
       "  <tbody>\n",
       "    <tr>\n",
       "      <th>0</th>\n",
       "      <td>0</td>\n",
       "      <td>0.0</td>\n",
       "      <td>0.0</td>\n",
       "      <td>0.0</td>\n",
       "      <td>0.0</td>\n",
       "      <td>2.0</td>\n",
       "      <td>100.0</td>\n",
       "      <td>6.0</td>\n",
       "      <td>0.0</td>\n",
       "      <td>1.000000</td>\n",
       "      <td>...</td>\n",
       "      <td>0</td>\n",
       "      <td>0</td>\n",
       "      <td>1</td>\n",
       "      <td>1</td>\n",
       "      <td>1</td>\n",
       "      <td>1</td>\n",
       "      <td>1</td>\n",
       "      <td>0</td>\n",
       "      <td>9</td>\n",
       "      <td>1</td>\n",
       "    </tr>\n",
       "    <tr>\n",
       "      <th>1</th>\n",
       "      <td>1</td>\n",
       "      <td>0.0</td>\n",
       "      <td>0.0</td>\n",
       "      <td>0.0</td>\n",
       "      <td>0.0</td>\n",
       "      <td>2.0</td>\n",
       "      <td>100.0</td>\n",
       "      <td>39.0</td>\n",
       "      <td>0.0</td>\n",
       "      <td>1.022863</td>\n",
       "      <td>...</td>\n",
       "      <td>0</td>\n",
       "      <td>0</td>\n",
       "      <td>0</td>\n",
       "      <td>0</td>\n",
       "      <td>1</td>\n",
       "      <td>0</td>\n",
       "      <td>1</td>\n",
       "      <td>0</td>\n",
       "      <td>5</td>\n",
       "      <td>1</td>\n",
       "    </tr>\n",
       "    <tr>\n",
       "      <th>2</th>\n",
       "      <td>2</td>\n",
       "      <td>0.0</td>\n",
       "      <td>0.0</td>\n",
       "      <td>0.0</td>\n",
       "      <td>0.0</td>\n",
       "      <td>2.0</td>\n",
       "      <td>100.0</td>\n",
       "      <td>42.0</td>\n",
       "      <td>0.0</td>\n",
       "      <td>1.059135</td>\n",
       "      <td>...</td>\n",
       "      <td>0</td>\n",
       "      <td>0</td>\n",
       "      <td>0</td>\n",
       "      <td>0</td>\n",
       "      <td>1</td>\n",
       "      <td>0</td>\n",
       "      <td>1</td>\n",
       "      <td>0</td>\n",
       "      <td>6</td>\n",
       "      <td>1</td>\n",
       "    </tr>\n",
       "    <tr>\n",
       "      <th>3</th>\n",
       "      <td>3</td>\n",
       "      <td>0.0</td>\n",
       "      <td>0.0</td>\n",
       "      <td>0.0</td>\n",
       "      <td>0.0</td>\n",
       "      <td>2.0</td>\n",
       "      <td>100.0</td>\n",
       "      <td>40.0</td>\n",
       "      <td>0.0</td>\n",
       "      <td>0.992989</td>\n",
       "      <td>...</td>\n",
       "      <td>0</td>\n",
       "      <td>0</td>\n",
       "      <td>0</td>\n",
       "      <td>0</td>\n",
       "      <td>1</td>\n",
       "      <td>0</td>\n",
       "      <td>1</td>\n",
       "      <td>1</td>\n",
       "      <td>7</td>\n",
       "      <td>1</td>\n",
       "    </tr>\n",
       "    <tr>\n",
       "      <th>4</th>\n",
       "      <td>4</td>\n",
       "      <td>0.0</td>\n",
       "      <td>0.0</td>\n",
       "      <td>0.0</td>\n",
       "      <td>0.0</td>\n",
       "      <td>1.0</td>\n",
       "      <td>100.0</td>\n",
       "      <td>37.0</td>\n",
       "      <td>0.0</td>\n",
       "      <td>1.007005</td>\n",
       "      <td>...</td>\n",
       "      <td>0</td>\n",
       "      <td>0</td>\n",
       "      <td>0</td>\n",
       "      <td>0</td>\n",
       "      <td>1</td>\n",
       "      <td>0</td>\n",
       "      <td>1</td>\n",
       "      <td>1</td>\n",
       "      <td>6</td>\n",
       "      <td>1</td>\n",
       "    </tr>\n",
       "    <tr>\n",
       "      <th>...</th>\n",
       "      <td>...</td>\n",
       "      <td>...</td>\n",
       "      <td>...</td>\n",
       "      <td>...</td>\n",
       "      <td>...</td>\n",
       "      <td>...</td>\n",
       "      <td>...</td>\n",
       "      <td>...</td>\n",
       "      <td>...</td>\n",
       "      <td>...</td>\n",
       "      <td>...</td>\n",
       "      <td>...</td>\n",
       "      <td>...</td>\n",
       "      <td>...</td>\n",
       "      <td>...</td>\n",
       "      <td>...</td>\n",
       "      <td>...</td>\n",
       "      <td>...</td>\n",
       "      <td>...</td>\n",
       "      <td>...</td>\n",
       "      <td>...</td>\n",
       "    </tr>\n",
       "    <tr>\n",
       "      <th>95305</th>\n",
       "      <td>80846</td>\n",
       "      <td>91.7</td>\n",
       "      <td>0.0</td>\n",
       "      <td>0.0</td>\n",
       "      <td>0.0</td>\n",
       "      <td>2.8</td>\n",
       "      <td>9.9</td>\n",
       "      <td>5.5</td>\n",
       "      <td>0.0</td>\n",
       "      <td>1.101565</td>\n",
       "      <td>...</td>\n",
       "      <td>0</td>\n",
       "      <td>0</td>\n",
       "      <td>0</td>\n",
       "      <td>0</td>\n",
       "      <td>1</td>\n",
       "      <td>0</td>\n",
       "      <td>0</td>\n",
       "      <td>0</td>\n",
       "      <td>1</td>\n",
       "      <td>0</td>\n",
       "    </tr>\n",
       "    <tr>\n",
       "      <th>95306</th>\n",
       "      <td>80847</td>\n",
       "      <td>88.4</td>\n",
       "      <td>0.0</td>\n",
       "      <td>0.0</td>\n",
       "      <td>0.9</td>\n",
       "      <td>4.5</td>\n",
       "      <td>10.0</td>\n",
       "      <td>6.3</td>\n",
       "      <td>0.0</td>\n",
       "      <td>1.103106</td>\n",
       "      <td>...</td>\n",
       "      <td>0</td>\n",
       "      <td>0</td>\n",
       "      <td>0</td>\n",
       "      <td>0</td>\n",
       "      <td>1</td>\n",
       "      <td>0</td>\n",
       "      <td>0</td>\n",
       "      <td>0</td>\n",
       "      <td>2</td>\n",
       "      <td>0</td>\n",
       "    </tr>\n",
       "    <tr>\n",
       "      <th>95307</th>\n",
       "      <td>80848</td>\n",
       "      <td>91.7</td>\n",
       "      <td>0.0</td>\n",
       "      <td>0.0</td>\n",
       "      <td>0.0</td>\n",
       "      <td>2.8</td>\n",
       "      <td>9.1</td>\n",
       "      <td>5.5</td>\n",
       "      <td>0.0</td>\n",
       "      <td>1.097409</td>\n",
       "      <td>...</td>\n",
       "      <td>0</td>\n",
       "      <td>0</td>\n",
       "      <td>0</td>\n",
       "      <td>0</td>\n",
       "      <td>1</td>\n",
       "      <td>0</td>\n",
       "      <td>0</td>\n",
       "      <td>0</td>\n",
       "      <td>2</td>\n",
       "      <td>0</td>\n",
       "    </tr>\n",
       "    <tr>\n",
       "      <th>95308</th>\n",
       "      <td>80849</td>\n",
       "      <td>92.6</td>\n",
       "      <td>0.0</td>\n",
       "      <td>0.0</td>\n",
       "      <td>0.0</td>\n",
       "      <td>2.8</td>\n",
       "      <td>8.3</td>\n",
       "      <td>4.6</td>\n",
       "      <td>0.0</td>\n",
       "      <td>1.086013</td>\n",
       "      <td>...</td>\n",
       "      <td>0</td>\n",
       "      <td>0</td>\n",
       "      <td>0</td>\n",
       "      <td>0</td>\n",
       "      <td>1</td>\n",
       "      <td>0</td>\n",
       "      <td>0</td>\n",
       "      <td>0</td>\n",
       "      <td>1</td>\n",
       "      <td>0</td>\n",
       "    </tr>\n",
       "    <tr>\n",
       "      <th>95309</th>\n",
       "      <td>80850</td>\n",
       "      <td>91.7</td>\n",
       "      <td>0.0</td>\n",
       "      <td>0.0</td>\n",
       "      <td>0.0</td>\n",
       "      <td>2.8</td>\n",
       "      <td>7.5</td>\n",
       "      <td>5.6</td>\n",
       "      <td>0.0</td>\n",
       "      <td>1.084786</td>\n",
       "      <td>...</td>\n",
       "      <td>0</td>\n",
       "      <td>0</td>\n",
       "      <td>0</td>\n",
       "      <td>0</td>\n",
       "      <td>1</td>\n",
       "      <td>0</td>\n",
       "      <td>0</td>\n",
       "      <td>0</td>\n",
       "      <td>1</td>\n",
       "      <td>0</td>\n",
       "    </tr>\n",
       "  </tbody>\n",
       "</table>\n",
       "<p>95310 rows × 87 columns</p>\n",
       "</div>"
      ],
      "text/plain": [
       "       Unnamed: 0  cpu_idle  cpu_iowait  cpu_nice  cpu_softirq  cpu_system  \\\n",
       "0               0       0.0         0.0       0.0          0.0         2.0   \n",
       "1               1       0.0         0.0       0.0          0.0         2.0   \n",
       "2               2       0.0         0.0       0.0          0.0         2.0   \n",
       "3               3       0.0         0.0       0.0          0.0         2.0   \n",
       "4               4       0.0         0.0       0.0          0.0         1.0   \n",
       "...           ...       ...         ...       ...          ...         ...   \n",
       "95305       80846      91.7         0.0       0.0          0.0         2.8   \n",
       "95306       80847      88.4         0.0       0.0          0.9         4.5   \n",
       "95307       80848      91.7         0.0       0.0          0.0         2.8   \n",
       "95308       80849      92.6         0.0       0.0          0.0         2.8   \n",
       "95309       80850      91.7         0.0       0.0          0.0         2.8   \n",
       "\n",
       "       cpu_total  cpu_user  diskio_sda1_read_bytes  \\\n",
       "0          100.0       6.0                     0.0   \n",
       "1          100.0      39.0                     0.0   \n",
       "2          100.0      42.0                     0.0   \n",
       "3          100.0      40.0                     0.0   \n",
       "4          100.0      37.0                     0.0   \n",
       "...          ...       ...                     ...   \n",
       "95305        9.9       5.5                     0.0   \n",
       "95306       10.0       6.3                     0.0   \n",
       "95307        9.1       5.5                     0.0   \n",
       "95308        8.3       4.6                     0.0   \n",
       "95309        7.5       5.6                     0.0   \n",
       "\n",
       "       diskio_sda1_time_since_update  ...  network_lo_cumulative_rx_flag  \\\n",
       "0                           1.000000  ...                              0   \n",
       "1                           1.022863  ...                              0   \n",
       "2                           1.059135  ...                              0   \n",
       "3                           0.992989  ...                              0   \n",
       "4                           1.007005  ...                              0   \n",
       "...                              ...  ...                            ...   \n",
       "95305                       1.101565  ...                              0   \n",
       "95306                       1.103106  ...                              0   \n",
       "95307                       1.097409  ...                              0   \n",
       "95308                       1.086013  ...                              0   \n",
       "95309                       1.084786  ...                              0   \n",
       "\n",
       "       network_lo_cumulative_tx_flag  network_lo_cx_flag  network_lo_rx_flag  \\\n",
       "0                                  0                   1                   1   \n",
       "1                                  0                   0                   0   \n",
       "2                                  0                   0                   0   \n",
       "3                                  0                   0                   0   \n",
       "4                                  0                   0                   0   \n",
       "...                              ...                 ...                 ...   \n",
       "95305                              0                   0                   0   \n",
       "95306                              0                   0                   0   \n",
       "95307                              0                   0                   0   \n",
       "95308                              0                   0                   0   \n",
       "95309                              0                   0                   0   \n",
       "\n",
       "      network_lo_time_since_update_flag  network_lo_tx_flag  \\\n",
       "0                                     1                   1   \n",
       "1                                     1                   0   \n",
       "2                                     1                   0   \n",
       "3                                     1                   0   \n",
       "4                                     1                   0   \n",
       "...                                 ...                 ...   \n",
       "95305                                 1                   0   \n",
       "95306                                 1                   0   \n",
       "95307                                 1                   0   \n",
       "95308                                 1                   0   \n",
       "95309                                 1                   0   \n",
       "\n",
       "       fs_/_percent_flag  processcount_running_flag  totalflags  an_flag  \n",
       "0                      1                          0           9        1  \n",
       "1                      1                          0           5        1  \n",
       "2                      1                          0           6        1  \n",
       "3                      1                          1           7        1  \n",
       "4                      1                          1           6        1  \n",
       "...                  ...                        ...         ...      ...  \n",
       "95305                  0                          0           1        0  \n",
       "95306                  0                          0           2        0  \n",
       "95307                  0                          0           2        0  \n",
       "95308                  0                          0           1        0  \n",
       "95309                  0                          0           1        0  \n",
       "\n",
       "[95310 rows x 87 columns]"
      ]
     },
     "execution_count": 172,
     "metadata": {},
     "output_type": "execute_result"
    }
   ],
   "source": [
    "df"
   ]
  },
  {
   "cell_type": "markdown",
   "id": "9df4ba8e",
   "metadata": {},
   "source": [
    "## In last notebook these variables were found to be good indicators of cryptojacking\n",
    "\n",
    "- cpu_iowait\n",
    "- cpu_nice\n",
    "- cpu_softirq\n",
    "- percpu_0_iowait\n",
    "- percpu_0_nice\n",
    "- percpu_0_softirq\n",
    "- diskio_sda1_write_bytes\n",
    "- diskio_sda1_write_bytes\n",
    "- diskio_sda1_read_bytes\n",
    "- diskio_sda_read_bytes\n",
    "- memswap_free\n",
    "- memswap_sin\n",
    "- memswap_sout\n",
    "- memswap_total\n",
    "- memswap_used\n",
    "- memswap_percen\n",
    "- network_lo_cumulative_cx\n",
    "- network_lo_cumulative_rx\n",
    "- network_lo_cumulative_tx\n",
    "- network_lo_cx\n",
    "- network_lo_rx\n",
    "- network_lo_tx\n",
    "- fs_/_percent\n",
    "- processcount_running"
   ]
  },
  {
   "cell_type": "code",
   "execution_count": 173,
   "id": "92c6adae",
   "metadata": {},
   "outputs": [],
   "source": [
    "indie_vars = ['cpu_iowait',\n",
    "'cpu_nice',\n",
    "'cpu_softirq',\n",
    "'percpu_0_iowait',\n",
    "'percpu_0_nice',\n",
    "'percpu_0_softirq',\n",
    "'diskio_sda1_write_bytes',\n",
    "'diskio_sda1_write_bytes',\n",
    "'diskio_sda1_read_bytes',\n",
    "'diskio_sda_read_bytes',\n",
    "'memswap_free',\n",
    "'memswap_sin',\n",
    "'memswap_sout',\n",
    "'memswap_total',\n",
    "'memswap_used',\n",
    "'memswap_percent',\n",
    "'network_lo_cumulative_cx',\n",
    "'network_lo_cumulative_rx',\n",
    "'network_lo_cumulative_tx',\n",
    "'network_lo_cx',\n",
    "'network_lo_rx',\n",
    "'network_lo_tx',\n",
    "'fs_/_percent',\n",
    "'processcount_running']"
   ]
  },
  {
   "cell_type": "code",
   "execution_count": 174,
   "id": "a0c76e6b",
   "metadata": {},
   "outputs": [],
   "source": [
    "df_an = df[indie_vars]"
   ]
  },
  {
   "cell_type": "code",
   "execution_count": 175,
   "id": "914f0503",
   "metadata": {},
   "outputs": [],
   "source": [
    "indie_cat = []\n",
    "for var in indie_vars:\n",
    "    indie_cat.append(var+'_flag')"
   ]
  },
  {
   "cell_type": "code",
   "execution_count": 176,
   "id": "046173e7",
   "metadata": {},
   "outputs": [],
   "source": [
    "from sklearn.preprocessing import MinMaxScaler\n",
    "\n",
    "\n",
    "scaler = MinMaxScaler()\n",
    "\n"
   ]
  },
  {
   "cell_type": "code",
   "execution_count": 177,
   "id": "2390586e",
   "metadata": {},
   "outputs": [],
   "source": [
    "from sklearn.metrics import silhouette_score\n",
    "\n",
    "from scipy.cluster.hierarchy import linkage\n",
    "from scipy.cluster.hierarchy import dendrogram\n",
    "from scipy.cluster.hierarchy import cut_tree\n",
    "import matplotlib.pyplot as plt"
   ]
  },
  {
   "cell_type": "code",
   "execution_count": 178,
   "id": "38beb594",
   "metadata": {},
   "outputs": [],
   "source": [
    "df1 = df.copy()"
   ]
  },
  {
   "cell_type": "code",
   "execution_count": 179,
   "id": "321742ff",
   "metadata": {},
   "outputs": [],
   "source": [
    "l = []\n",
    "for var in df.columns:\n",
    "    if (len(df[var].unique())>2)&(df[var].dtype!='O'):\n",
    "        l.append(var)"
   ]
  },
  {
   "cell_type": "code",
   "execution_count": 180,
   "id": "447f287a",
   "metadata": {},
   "outputs": [],
   "source": [
    "l.remove('Unnamed: 0')\n"
   ]
  },
  {
   "cell_type": "code",
   "execution_count": 181,
   "id": "03b1e698",
   "metadata": {},
   "outputs": [
    {
     "name": "stdout",
     "output_type": "stream",
     "text": [
      "52\n"
     ]
    }
   ],
   "source": [
    "print(len(l))"
   ]
  },
  {
   "cell_type": "code",
   "execution_count": 182,
   "id": "f9eb202d",
   "metadata": {},
   "outputs": [],
   "source": [
    "df[l] = scaler.fit_transform(df[l])"
   ]
  },
  {
   "cell_type": "code",
   "execution_count": 183,
   "id": "77771809",
   "metadata": {},
   "outputs": [
    {
     "name": "stderr",
     "output_type": "stream",
     "text": [
      "/var/folders/3w/9sxng9vs07x5y5pwg23csg4r0000gn/T/ipykernel_40939/2918214666.py:2: SettingWithCopyWarning: \n",
      "A value is trying to be set on a copy of a slice from a DataFrame\n",
      "\n",
      "See the caveats in the documentation: https://pandas.pydata.org/pandas-docs/stable/user_guide/indexing.html#returning-a-view-versus-a-copy\n",
      "  X.drop('totalflags', axis = 1, inplace = True)\n"
     ]
    }
   ],
   "source": [
    "X = df[l]\n",
    "X.drop('totalflags', axis = 1, inplace = True)\n",
    "y = df['flag']"
   ]
  },
  {
   "cell_type": "code",
   "execution_count": 184,
   "id": "88f3d90f",
   "metadata": {},
   "outputs": [
    {
     "name": "stdout",
     "output_type": "stream",
     "text": [
      "Fitting estimator with 51 features.\n",
      "Fitting estimator with 50 features.\n",
      "Fitting estimator with 49 features.\n",
      "Fitting estimator with 48 features.\n",
      "Fitting estimator with 47 features.\n",
      "Fitting estimator with 46 features.\n",
      "Fitting estimator with 45 features.\n",
      "Fitting estimator with 44 features.\n",
      "Fitting estimator with 43 features.\n",
      "Fitting estimator with 42 features.\n",
      "Fitting estimator with 41 features.\n",
      "Fitting estimator with 40 features.\n",
      "Fitting estimator with 39 features.\n",
      "Fitting estimator with 38 features.\n",
      "Fitting estimator with 37 features.\n",
      "Fitting estimator with 36 features.\n",
      "Fitting estimator with 35 features.\n",
      "Fitting estimator with 34 features.\n",
      "Fitting estimator with 33 features.\n",
      "Fitting estimator with 32 features.\n",
      "Fitting estimator with 31 features.\n",
      "Fitting estimator with 30 features.\n",
      "Fitting estimator with 29 features.\n",
      "Fitting estimator with 28 features.\n",
      "Fitting estimator with 27 features.\n",
      "Fitting estimator with 26 features.\n",
      "Fitting estimator with 25 features.\n",
      "Fitting estimator with 24 features.\n",
      "Fitting estimator with 23 features.\n",
      "Fitting estimator with 22 features.\n",
      "Fitting estimator with 21 features.\n",
      "Fitting estimator with 20 features.\n",
      "Fitting estimator with 19 features.\n",
      "Fitting estimator with 18 features.\n",
      "Fitting estimator with 17 features.\n",
      "Fitting estimator with 16 features.\n",
      "Fitting estimator with 15 features.\n",
      "Fitting estimator with 14 features.\n",
      "Fitting estimator with 13 features.\n",
      "Fitting estimator with 12 features.\n",
      "Fitting estimator with 11 features.\n",
      "Fitting estimator with 10 features.\n",
      "Fitting estimator with 9 features.\n",
      "Fitting estimator with 8 features.\n",
      "Fitting estimator with 7 features.\n",
      "Fitting estimator with 6 features.\n"
     ]
    }
   ],
   "source": [
    "from sklearn.linear_model import LogisticRegression\n",
    "from sklearn.feature_selection import RFE, f_regression\n",
    "\n",
    "\n",
    "\n",
    "lm = LogisticRegression() # specifying the model\n",
    "lm.fit(X, y)\n",
    "\n",
    "rfe = RFE(estimator = LogisticRegression(), n_features_to_select =5 , verbose =3)             \n",
    "rfe = rfe.fit(X, y)"
   ]
  },
  {
   "cell_type": "code",
   "execution_count": 185,
   "id": "f94f5393",
   "metadata": {},
   "outputs": [],
   "source": [
    "col = X.columns[rfe.support_]\n",
    "X = X[list(col)]"
   ]
  },
  {
   "cell_type": "code",
   "execution_count": 186,
   "id": "eb64bc28",
   "metadata": {},
   "outputs": [],
   "source": [
    "#X_sample = X.sample(frac = 0.1)"
   ]
  },
  {
   "cell_type": "code",
   "execution_count": 187,
   "id": "3090241c",
   "metadata": {},
   "outputs": [],
   "source": [
    "#mergings = linkage(X_sample, method=\"complete\", metric='euclidean')\n",
    "#dendrogram(mergings)\n",
    "#plt.show()"
   ]
  },
  {
   "cell_type": "code",
   "execution_count": 188,
   "id": "97364e46",
   "metadata": {},
   "outputs": [
    {
     "data": {
      "text/plain": [
       "KMeans(max_iter=50, n_clusters=2)"
      ]
     },
     "execution_count": 188,
     "metadata": {},
     "output_type": "execute_result"
    }
   ],
   "source": [
    "from sklearn.cluster import KMeans\n",
    "\n",
    "\n",
    "kmeans = KMeans(n_clusters=2, max_iter=50)\n",
    "kmeans.fit(X)"
   ]
  },
  {
   "cell_type": "code",
   "execution_count": 189,
   "id": "6c5a44bd",
   "metadata": {},
   "outputs": [],
   "source": [
    "df['prediction1'] = kmeans.labels_"
   ]
  },
  {
   "cell_type": "code",
   "execution_count": 190,
   "id": "97faa25c",
   "metadata": {},
   "outputs": [
    {
     "data": {
      "text/plain": [
       "0        1\n",
       "1        1\n",
       "2        1\n",
       "3        1\n",
       "4        1\n",
       "        ..\n",
       "95305    0\n",
       "95306    0\n",
       "95307    0\n",
       "95308    0\n",
       "95309    0\n",
       "Name: prediction1, Length: 95310, dtype: int32"
      ]
     },
     "execution_count": 190,
     "metadata": {},
     "output_type": "execute_result"
    }
   ],
   "source": [
    "df['prediction1']"
   ]
  },
  {
   "cell_type": "code",
   "execution_count": 191,
   "id": "79e695e5",
   "metadata": {},
   "outputs": [
    {
     "name": "stdout",
     "output_type": "stream",
     "text": [
      "              precision    recall  f1-score   support\n",
      "\n",
      "           0       1.00      1.00      1.00     80850\n",
      "           1       1.00      1.00      1.00     14460\n",
      "\n",
      "    accuracy                           1.00     95310\n",
      "   macro avg       1.00      1.00      1.00     95310\n",
      "weighted avg       1.00      1.00      1.00     95310\n",
      "\n"
     ]
    }
   ],
   "source": [
    "from sklearn.metrics import accuracy_score, classification_report\n",
    "print(classification_report(df.flag, df.prediction1))"
   ]
  },
  {
   "cell_type": "code",
   "execution_count": 192,
   "id": "abdbb32e",
   "metadata": {},
   "outputs": [],
   "source": [
    "flags = []\n",
    "for var in df.columns:\n",
    "    if var[-4:]=='flag':\n",
    "        flags.append(var)"
   ]
  },
  {
   "cell_type": "code",
   "execution_count": 193,
   "id": "e5941c07",
   "metadata": {},
   "outputs": [
    {
     "data": {
      "text/html": [
       "<div>\n",
       "<style scoped>\n",
       "    .dataframe tbody tr th:only-of-type {\n",
       "        vertical-align: middle;\n",
       "    }\n",
       "\n",
       "    .dataframe tbody tr th {\n",
       "        vertical-align: top;\n",
       "    }\n",
       "\n",
       "    .dataframe thead th {\n",
       "        text-align: right;\n",
       "    }\n",
       "</style>\n",
       "<table border=\"1\" class=\"dataframe\">\n",
       "  <thead>\n",
       "    <tr style=\"text-align: right;\">\n",
       "      <th></th>\n",
       "      <th>Features</th>\n",
       "      <th>VIF</th>\n",
       "    </tr>\n",
       "  </thead>\n",
       "  <tbody>\n",
       "    <tr>\n",
       "      <th>2</th>\n",
       "      <td>mem_free</td>\n",
       "      <td>98.36</td>\n",
       "    </tr>\n",
       "    <tr>\n",
       "      <th>0</th>\n",
       "      <td>fs_/_free</td>\n",
       "      <td>81.81</td>\n",
       "    </tr>\n",
       "    <tr>\n",
       "      <th>3</th>\n",
       "      <td>mem_percent</td>\n",
       "      <td>27.42</td>\n",
       "    </tr>\n",
       "    <tr>\n",
       "      <th>4</th>\n",
       "      <td>memswap_free</td>\n",
       "      <td>23.65</td>\n",
       "    </tr>\n",
       "    <tr>\n",
       "      <th>1</th>\n",
       "      <td>mem_cached</td>\n",
       "      <td>6.31</td>\n",
       "    </tr>\n",
       "  </tbody>\n",
       "</table>\n",
       "</div>"
      ],
      "text/plain": [
       "       Features    VIF\n",
       "2      mem_free  98.36\n",
       "0     fs_/_free  81.81\n",
       "3   mem_percent  27.42\n",
       "4  memswap_free  23.65\n",
       "1    mem_cached   6.31"
      ]
     },
     "execution_count": 193,
     "metadata": {},
     "output_type": "execute_result"
    }
   ],
   "source": [
    "from statsmodels.stats.outliers_influence import variance_inflation_factor\n",
    "\n",
    "vif = pd.DataFrame()\n",
    "vif['Features'] = X.columns\n",
    "vif['VIF'] = [variance_inflation_factor(X.values, i) for i in range(X.shape[1])]\n",
    "vif['VIF'] = round(vif['VIF'], 2)\n",
    "vif = vif.sort_values(by = \"VIF\", ascending = False)\n",
    "vif  # But they do not have a high VIF score"
   ]
  },
  {
   "cell_type": "code",
   "execution_count": 194,
   "id": "66213e7d",
   "metadata": {},
   "outputs": [],
   "source": [
    "X.drop('mem_free', axis = 1, inplace = True)"
   ]
  },
  {
   "cell_type": "code",
   "execution_count": 196,
   "id": "2f02240d",
   "metadata": {},
   "outputs": [
    {
     "data": {
      "text/html": [
       "<div>\n",
       "<style scoped>\n",
       "    .dataframe tbody tr th:only-of-type {\n",
       "        vertical-align: middle;\n",
       "    }\n",
       "\n",
       "    .dataframe tbody tr th {\n",
       "        vertical-align: top;\n",
       "    }\n",
       "\n",
       "    .dataframe thead th {\n",
       "        text-align: right;\n",
       "    }\n",
       "</style>\n",
       "<table border=\"1\" class=\"dataframe\">\n",
       "  <thead>\n",
       "    <tr style=\"text-align: right;\">\n",
       "      <th></th>\n",
       "      <th>Features</th>\n",
       "      <th>VIF</th>\n",
       "    </tr>\n",
       "  </thead>\n",
       "  <tbody>\n",
       "    <tr>\n",
       "      <th>2</th>\n",
       "      <td>mem_percent</td>\n",
       "      <td>27.42</td>\n",
       "    </tr>\n",
       "    <tr>\n",
       "      <th>3</th>\n",
       "      <td>memswap_free</td>\n",
       "      <td>23.64</td>\n",
       "    </tr>\n",
       "    <tr>\n",
       "      <th>1</th>\n",
       "      <td>mem_cached</td>\n",
       "      <td>4.78</td>\n",
       "    </tr>\n",
       "    <tr>\n",
       "      <th>0</th>\n",
       "      <td>fs_/_free</td>\n",
       "      <td>2.45</td>\n",
       "    </tr>\n",
       "  </tbody>\n",
       "</table>\n",
       "</div>"
      ],
      "text/plain": [
       "       Features    VIF\n",
       "2   mem_percent  27.42\n",
       "3  memswap_free  23.64\n",
       "1    mem_cached   4.78\n",
       "0     fs_/_free   2.45"
      ]
     },
     "execution_count": 196,
     "metadata": {},
     "output_type": "execute_result"
    }
   ],
   "source": [
    "vif = pd.DataFrame()\n",
    "vif['Features'] = X.columns\n",
    "vif['VIF'] = [variance_inflation_factor(X.values, i) for i in range(X.shape[1])]\n",
    "vif['VIF'] = round(vif['VIF'], 2)\n",
    "vif = vif.sort_values(by = \"VIF\", ascending = False)\n",
    "vif  # But they do not have a high VIF score"
   ]
  },
  {
   "cell_type": "code",
   "execution_count": 197,
   "id": "06613ba2",
   "metadata": {},
   "outputs": [],
   "source": [
    "X.drop('mem_percent', axis = 1, inplace = True)"
   ]
  },
  {
   "cell_type": "code",
   "execution_count": 198,
   "id": "19aedc11",
   "metadata": {},
   "outputs": [
    {
     "data": {
      "text/html": [
       "<div>\n",
       "<style scoped>\n",
       "    .dataframe tbody tr th:only-of-type {\n",
       "        vertical-align: middle;\n",
       "    }\n",
       "\n",
       "    .dataframe tbody tr th {\n",
       "        vertical-align: top;\n",
       "    }\n",
       "\n",
       "    .dataframe thead th {\n",
       "        text-align: right;\n",
       "    }\n",
       "</style>\n",
       "<table border=\"1\" class=\"dataframe\">\n",
       "  <thead>\n",
       "    <tr style=\"text-align: right;\">\n",
       "      <th></th>\n",
       "      <th>Features</th>\n",
       "      <th>VIF</th>\n",
       "    </tr>\n",
       "  </thead>\n",
       "  <tbody>\n",
       "    <tr>\n",
       "      <th>0</th>\n",
       "      <td>fs_/_free</td>\n",
       "      <td>2.42</td>\n",
       "    </tr>\n",
       "    <tr>\n",
       "      <th>1</th>\n",
       "      <td>mem_cached</td>\n",
       "      <td>2.41</td>\n",
       "    </tr>\n",
       "    <tr>\n",
       "      <th>2</th>\n",
       "      <td>memswap_free</td>\n",
       "      <td>1.01</td>\n",
       "    </tr>\n",
       "  </tbody>\n",
       "</table>\n",
       "</div>"
      ],
      "text/plain": [
       "       Features   VIF\n",
       "0     fs_/_free  2.42\n",
       "1    mem_cached  2.41\n",
       "2  memswap_free  1.01"
      ]
     },
     "execution_count": 198,
     "metadata": {},
     "output_type": "execute_result"
    }
   ],
   "source": [
    "vif = pd.DataFrame()\n",
    "vif['Features'] = X.columns\n",
    "vif['VIF'] = [variance_inflation_factor(X.values, i) for i in range(X.shape[1])]\n",
    "vif['VIF'] = round(vif['VIF'], 2)\n",
    "vif = vif.sort_values(by = \"VIF\", ascending = False)\n",
    "vif  # But they do not have a high VIF score"
   ]
  },
  {
   "cell_type": "code",
   "execution_count": 228,
   "id": "7589ae11",
   "metadata": {},
   "outputs": [],
   "source": [
    "X1 = X.sample(frac = 0.2)"
   ]
  },
  {
   "cell_type": "code",
   "execution_count": 227,
   "id": "f336299b",
   "metadata": {},
   "outputs": [],
   "source": [
    "from scipy.cluster.hierarchy import linkage\n",
    "from scipy.cluster.hierarchy import dendrogram\n"
   ]
  },
  {
   "cell_type": "code",
   "execution_count": 229,
   "id": "f47a4f47",
   "metadata": {},
   "outputs": [
    {
     "data": {
      "image/png": "[encoded data removed]",
      "text/plain": [
       "<Figure size 432x288 with 1 Axes>"
      ]
     },
     "metadata": {
      "needs_background": "light"
     },
     "output_type": "display_data"
    }
   ],
   "source": [
    "mergings = linkage(X1, method=\"complete\", metric='euclidean')\n",
    "dendrogram(mergings)\n",
    "plt.show()\n",
    "\n",
    "# we could work with three clusters\n",
    "# but I want to detect only the most eccentric batch\n",
    "# so I decide on k = 2"
   ]
  },
  {
   "cell_type": "code",
   "execution_count": 199,
   "id": "0a99db5c",
   "metadata": {},
   "outputs": [],
   "source": [
    "kmeans = KMeans(n_clusters=2, max_iter=50)\n",
    "kmeans.fit(X)\n",
    "df['prediction1'] = kmeans.labels_"
   ]
  },
  {
   "cell_type": "code",
   "execution_count": 200,
   "id": "1275eb45",
   "metadata": {},
   "outputs": [
    {
     "name": "stdout",
     "output_type": "stream",
     "text": [
      "              precision    recall  f1-score   support\n",
      "\n",
      "           0       1.00      1.00      1.00     80850\n",
      "           1       1.00      1.00      1.00     14460\n",
      "\n",
      "    accuracy                           1.00     95310\n",
      "   macro avg       1.00      1.00      1.00     95310\n",
      "weighted avg       1.00      1.00      1.00     95310\n",
      "\n"
     ]
    }
   ],
   "source": [
    "\n",
    "print(classification_report(df.flag, df.prediction1))"
   ]
  },
  {
   "cell_type": "code",
   "execution_count": 218,
   "id": "74beccba",
   "metadata": {},
   "outputs": [
    {
     "name": "stdout",
     "output_type": "stream",
     "text": [
      "100.0\n",
      "100.0\n"
     ]
    }
   ],
   "source": [
    "print(accuracy_score(y, df['prediction1'])*100)"
   ]
  },
  {
   "cell_type": "code",
   "execution_count": 219,
   "id": "92beab9e",
   "metadata": {},
   "outputs": [],
   "source": [
    "variables = list(X_c.columns)+list(X.columns)"
   ]
  },
  {
   "cell_type": "code",
   "execution_count": 220,
   "id": "91f12e8a",
   "metadata": {},
   "outputs": [],
   "source": [
    "list_n = ['flag', 'an_flag', 'datetime']"
   ]
  },
  {
   "cell_type": "code",
   "execution_count": 221,
   "id": "ef686072",
   "metadata": {},
   "outputs": [],
   "source": [
    "for var in list_n:\n",
    "    variables.append(var)"
   ]
  },
  {
   "cell_type": "code",
   "execution_count": 222,
   "id": "b558d3e8",
   "metadata": {},
   "outputs": [],
   "source": [
    "variables.append('totalflags')"
   ]
  },
  {
   "cell_type": "code",
   "execution_count": 223,
   "id": "706be32a",
   "metadata": {},
   "outputs": [],
   "source": [
    "df_tf = df1[variables]"
   ]
  },
  {
   "cell_type": "code",
   "execution_count": 224,
   "id": "e9c893c5",
   "metadata": {},
   "outputs": [
    {
     "data": {
      "text/plain": [
       "Index(['fs_/_free', 'mem_cached', 'memswap_free'], dtype='object')"
      ]
     },
     "execution_count": 224,
     "metadata": {},
     "output_type": "execute_result"
    }
   ],
   "source": [
    "X.columns"
   ]
  },
  {
   "cell_type": "markdown",
   "id": "fb52fd49",
   "metadata": {},
   "source": [
    "#### Saving the Data"
   ]
  },
  {
   "cell_type": "code",
   "execution_count": 225,
   "id": "8cb29df7",
   "metadata": {},
   "outputs": [],
   "source": [
    "df.to_csv('analised.csv')\n",
    "df_tf.to_csv('TimeseriesData.csv')"
   ]
  },
  {
   "cell_type": "code",
   "execution_count": null,
   "id": "55ae34cf",
   "metadata": {},
   "outputs": [],
   "source": []
  }
 ],
 "metadata": {
  "kernelspec": {
   "display_name": "Python 3 (ipykernel)",
   "language": "python",
   "name": "python3"
  },
  "language_info": {
   "codemirror_mode": {
    "name": "ipython",
    "version": 3
   },
   "file_extension": ".py",
   "mimetype": "text/x-python",
   "name": "python",
   "nbconvert_exporter": "python",
   "pygments_lexer": "ipython3",
   "version": "3.9.12"
  }
 },
 "nbformat": 4,
 "nbformat_minor": 5
}
